{
 "cells": [
  {
   "cell_type": "code",
   "execution_count": 109,
   "metadata": {},
   "outputs": [],
   "source": [
    "import pandas as pd\n",
    "import numpy as np\n",
    "import time\n",
    "from datetime import datetime, timedelta\n",
    "import requests as r\n",
    "import statsmodels.api as sm\n",
    "import matplotlib.pyplot as plt"
   ]
  },
  {
   "cell_type": "code",
   "execution_count": 44,
   "metadata": {},
   "outputs": [],
   "source": [
    "url = 'https://www.texaslottery.com/export/sites/lottery/Games/Powerball/Winning_Numbers/index.html_2013354932.html'\n",
    "powerball = pd.read_html(url)[0]"
   ]
  },
  {
   "cell_type": "code",
   "execution_count": 45,
   "metadata": {
    "scrolled": true
   },
   "outputs": [
    {
     "data": {
      "text/html": [
       "<div>\n",
       "<style scoped>\n",
       "    .dataframe tbody tr th:only-of-type {\n",
       "        vertical-align: middle;\n",
       "    }\n",
       "\n",
       "    .dataframe tbody tr th {\n",
       "        vertical-align: top;\n",
       "    }\n",
       "\n",
       "    .dataframe thead th {\n",
       "        text-align: right;\n",
       "    }\n",
       "</style>\n",
       "<table border=\"1\" class=\"dataframe\">\n",
       "  <thead>\n",
       "    <tr style=\"text-align: right;\">\n",
       "      <th></th>\n",
       "      <th>Draw Date</th>\n",
       "      <th>Winning Numbers</th>\n",
       "      <th>Powerball</th>\n",
       "      <th>Power Play</th>\n",
       "      <th>Estimated Jackpot</th>\n",
       "      <th>Jackpot Winners</th>\n",
       "      <th>Jackpot Option</th>\n",
       "    </tr>\n",
       "  </thead>\n",
       "  <tbody>\n",
       "    <tr>\n",
       "      <th>0</th>\n",
       "      <td>09/13/2023</td>\n",
       "      <td>22 - 30 - 37 - 44 - 45</td>\n",
       "      <td>18</td>\n",
       "      <td>3</td>\n",
       "      <td>$550 Million</td>\n",
       "      <td>Roll</td>\n",
       "      <td>NaN</td>\n",
       "    </tr>\n",
       "    <tr>\n",
       "      <th>1</th>\n",
       "      <td>09/11/2023</td>\n",
       "      <td>9 - 25 - 27 - 53 - 66</td>\n",
       "      <td>5</td>\n",
       "      <td>2</td>\n",
       "      <td>$522 Million</td>\n",
       "      <td>Roll</td>\n",
       "      <td>NaN</td>\n",
       "    </tr>\n",
       "    <tr>\n",
       "      <th>2</th>\n",
       "      <td>09/09/2023</td>\n",
       "      <td>11 - 19 - 29 - 63 - 68</td>\n",
       "      <td>25</td>\n",
       "      <td>2</td>\n",
       "      <td>$500 Million</td>\n",
       "      <td>Roll</td>\n",
       "      <td>NaN</td>\n",
       "    </tr>\n",
       "    <tr>\n",
       "      <th>3</th>\n",
       "      <td>09/06/2023</td>\n",
       "      <td>9 - 14 - 20 - 23 - 63</td>\n",
       "      <td>1</td>\n",
       "      <td>3</td>\n",
       "      <td>$461 Million</td>\n",
       "      <td>Roll</td>\n",
       "      <td>NaN</td>\n",
       "    </tr>\n",
       "    <tr>\n",
       "      <th>4</th>\n",
       "      <td>09/04/2023</td>\n",
       "      <td>1 - 26 - 32 - 46 - 51</td>\n",
       "      <td>13</td>\n",
       "      <td>3</td>\n",
       "      <td>$435 Million</td>\n",
       "      <td>Roll</td>\n",
       "      <td>NaN</td>\n",
       "    </tr>\n",
       "  </tbody>\n",
       "</table>\n",
       "</div>"
      ],
      "text/plain": [
       "    Draw Date         Winning Numbers Powerball Power Play Estimated Jackpot  \\\n",
       "0  09/13/2023  22 - 30 - 37 - 44 - 45        18          3      $550 Million   \n",
       "1  09/11/2023   9 - 25 - 27 - 53 - 66         5          2      $522 Million   \n",
       "2  09/09/2023  11 - 19 - 29 - 63 - 68        25          2      $500 Million   \n",
       "3  09/06/2023   9 - 14 - 20 - 23 - 63         1          3      $461 Million   \n",
       "4  09/04/2023   1 - 26 - 32 - 46 - 51        13          3      $435 Million   \n",
       "\n",
       "  Jackpot Winners Jackpot Option  \n",
       "0            Roll            NaN  \n",
       "1            Roll            NaN  \n",
       "2            Roll            NaN  \n",
       "3            Roll            NaN  \n",
       "4            Roll            NaN  "
      ]
     },
     "execution_count": 45,
     "metadata": {},
     "output_type": "execute_result"
    }
   ],
   "source": [
    "powerball.head()"
   ]
  },
  {
   "cell_type": "code",
   "execution_count": 80,
   "metadata": {},
   "outputs": [],
   "source": [
    "#There are a couple title rows, so we'll remove them"
   ]
  },
  {
   "cell_type": "code",
   "execution_count": 81,
   "metadata": {},
   "outputs": [],
   "source": [
    "powerball = powerball.drop(powerball[powerball['Powerball'] == 'First Drawing for new $2 Powerball matrix was 1/18/2012.'].index)\n",
    "powerball = powerball.drop(powerball[powerball['Powerball'] == 'First Drawing for new Powerball matrix was 10/07/2015.'].index)"
   ]
  },
  {
   "cell_type": "code",
   "execution_count": 97,
   "metadata": {},
   "outputs": [],
   "source": [
    "powerball = powerball.reset_index(drop=True)"
   ]
  },
  {
   "cell_type": "code",
   "execution_count": 121,
   "metadata": {},
   "outputs": [],
   "source": [
    "powerball['Draw Date'] = pd.to_datetime(powerball['Draw Date'])"
   ]
  },
  {
   "cell_type": "code",
   "execution_count": 122,
   "metadata": {
    "scrolled": true
   },
   "outputs": [
    {
     "data": {
      "text/html": [
       "<div>\n",
       "<style scoped>\n",
       "    .dataframe tbody tr th:only-of-type {\n",
       "        vertical-align: middle;\n",
       "    }\n",
       "\n",
       "    .dataframe tbody tr th {\n",
       "        vertical-align: top;\n",
       "    }\n",
       "\n",
       "    .dataframe thead th {\n",
       "        text-align: right;\n",
       "    }\n",
       "</style>\n",
       "<table border=\"1\" class=\"dataframe\">\n",
       "  <thead>\n",
       "    <tr style=\"text-align: right;\">\n",
       "      <th></th>\n",
       "      <th>Draw Date</th>\n",
       "      <th>Winning Numbers</th>\n",
       "      <th>Powerball</th>\n",
       "      <th>Power Play</th>\n",
       "      <th>Estimated Jackpot</th>\n",
       "      <th>Jackpot Winners</th>\n",
       "      <th>Jackpot Option</th>\n",
       "    </tr>\n",
       "  </thead>\n",
       "  <tbody>\n",
       "    <tr>\n",
       "      <th>0</th>\n",
       "      <td>2023-09-13</td>\n",
       "      <td>22 - 30 - 37 - 44 - 45</td>\n",
       "      <td>18</td>\n",
       "      <td>3</td>\n",
       "      <td>$550 Million</td>\n",
       "      <td>Roll</td>\n",
       "      <td>NaN</td>\n",
       "    </tr>\n",
       "    <tr>\n",
       "      <th>1</th>\n",
       "      <td>2023-09-11</td>\n",
       "      <td>9 - 25 - 27 - 53 - 66</td>\n",
       "      <td>5</td>\n",
       "      <td>2</td>\n",
       "      <td>$522 Million</td>\n",
       "      <td>Roll</td>\n",
       "      <td>NaN</td>\n",
       "    </tr>\n",
       "    <tr>\n",
       "      <th>2</th>\n",
       "      <td>2023-09-09</td>\n",
       "      <td>11 - 19 - 29 - 63 - 68</td>\n",
       "      <td>25</td>\n",
       "      <td>2</td>\n",
       "      <td>$500 Million</td>\n",
       "      <td>Roll</td>\n",
       "      <td>NaN</td>\n",
       "    </tr>\n",
       "    <tr>\n",
       "      <th>3</th>\n",
       "      <td>2023-09-06</td>\n",
       "      <td>9 - 14 - 20 - 23 - 63</td>\n",
       "      <td>1</td>\n",
       "      <td>3</td>\n",
       "      <td>$461 Million</td>\n",
       "      <td>Roll</td>\n",
       "      <td>NaN</td>\n",
       "    </tr>\n",
       "    <tr>\n",
       "      <th>4</th>\n",
       "      <td>2023-09-04</td>\n",
       "      <td>1 - 26 - 32 - 46 - 51</td>\n",
       "      <td>13</td>\n",
       "      <td>3</td>\n",
       "      <td>$435 Million</td>\n",
       "      <td>Roll</td>\n",
       "      <td>NaN</td>\n",
       "    </tr>\n",
       "  </tbody>\n",
       "</table>\n",
       "</div>"
      ],
      "text/plain": [
       "   Draw Date         Winning Numbers Powerball Power Play Estimated Jackpot  \\\n",
       "0 2023-09-13  22 - 30 - 37 - 44 - 45        18          3      $550 Million   \n",
       "1 2023-09-11   9 - 25 - 27 - 53 - 66         5          2      $522 Million   \n",
       "2 2023-09-09  11 - 19 - 29 - 63 - 68        25          2      $500 Million   \n",
       "3 2023-09-06   9 - 14 - 20 - 23 - 63         1          3      $461 Million   \n",
       "4 2023-09-04   1 - 26 - 32 - 46 - 51        13          3      $435 Million   \n",
       "\n",
       "  Jackpot Winners Jackpot Option  \n",
       "0            Roll            NaN  \n",
       "1            Roll            NaN  \n",
       "2            Roll            NaN  \n",
       "3            Roll            NaN  \n",
       "4            Roll            NaN  "
      ]
     },
     "execution_count": 122,
     "metadata": {},
     "output_type": "execute_result"
    }
   ],
   "source": [
    "powerball.head()"
   ]
  },
  {
   "cell_type": "code",
   "execution_count": 126,
   "metadata": {},
   "outputs": [
    {
     "data": {
      "text/plain": [
       "Timestamp('2010-02-03 00:00:00')"
      ]
     },
     "execution_count": 126,
     "metadata": {},
     "output_type": "execute_result"
    }
   ],
   "source": [
    "powerball['Draw Date'].min()"
   ]
  },
  {
   "cell_type": "code",
   "execution_count": 99,
   "metadata": {},
   "outputs": [],
   "source": [
    "#Based on the Powerball rules, the 5 winning numbers are selected DO NOT have to be in order\n",
    "#Simply just that you selected the right numbers, which ranges from 1 to 69\n",
    "#The Powerball ranges from 1 to 26\n",
    "#Jackpot is selecting the correct winning numbers and the correct powerball\n",
    "\n",
    "#Powerplay is a non-jackpot winnings multiplier\n",
    "#It costs an extra dollar, but it can increase your non-jackpot winnings up to 10x\n",
    "#10x only applies when jackpot is <= 150M\n",
    "\n",
    "#Non-jackpot winnings are set cash amounts: https://www.powerball.com/powerball-prize-chart\n",
    "#Further rules are here: \n",
    "#https://www.powerball.com/#:~:text=Select%20five%20numbers%20between%201,terminal%20randomly%20pick%20your%20numbers."
   ]
  },
  {
   "cell_type": "code",
   "execution_count": 100,
   "metadata": {},
   "outputs": [],
   "source": [
    "#I couldn't confirm this on the site, but it seems like the winning numbers do not repeat\n",
    "#This means the numbers are selected WIHOUT replacement"
   ]
  },
  {
   "cell_type": "code",
   "execution_count": 101,
   "metadata": {},
   "outputs": [],
   "source": [
    "#We have three different distributions here\n",
    "#We have the distribution of the winning numbers\n",
    "#Then we have a distribution for the powerball\n",
    "#Lastly, we have the distribution of the power play (important for non-jackpot winnings)"
   ]
  },
  {
   "cell_type": "code",
   "execution_count": 102,
   "metadata": {},
   "outputs": [],
   "source": [
    "#If the powerball is fair, then these distributions should represent a uniform distribution"
   ]
  },
  {
   "cell_type": "code",
   "execution_count": 127,
   "metadata": {},
   "outputs": [],
   "source": [
    "#The newest rules went into place Oct 7th 2015, so we'll need to filter our table for this time\n",
    "#Based on: https://en.wikipedia.org/wiki/Powerball#Basic_game"
   ]
  },
  {
   "cell_type": "markdown",
   "metadata": {},
   "source": [
    "# Winning Numbers"
   ]
  },
  {
   "cell_type": "code",
   "execution_count": 103,
   "metadata": {},
   "outputs": [],
   "source": [
    "#Let's make a random simulation of the powerball numbers\n",
    "#Again, order doesn't matter, just that you have the 5 winning"
   ]
  },
  {
   "cell_type": "code",
   "execution_count": 128,
   "metadata": {},
   "outputs": [],
   "source": [
    "#Again, we need to filter for Oct 7th 2015 as this is when the current rules went into affect"
   ]
  },
  {
   "cell_type": "code",
   "execution_count": 131,
   "metadata": {},
   "outputs": [],
   "source": [
    "newest_hist = powerball[powerball['Draw Date'] >= '2015-10-07'].reset_index(drop=True)"
   ]
  },
  {
   "cell_type": "code",
   "execution_count": 132,
   "metadata": {},
   "outputs": [
    {
     "data": {
      "text/html": [
       "<div>\n",
       "<style scoped>\n",
       "    .dataframe tbody tr th:only-of-type {\n",
       "        vertical-align: middle;\n",
       "    }\n",
       "\n",
       "    .dataframe tbody tr th {\n",
       "        vertical-align: top;\n",
       "    }\n",
       "\n",
       "    .dataframe thead th {\n",
       "        text-align: right;\n",
       "    }\n",
       "</style>\n",
       "<table border=\"1\" class=\"dataframe\">\n",
       "  <thead>\n",
       "    <tr style=\"text-align: right;\">\n",
       "      <th></th>\n",
       "      <th>Draw Date</th>\n",
       "      <th>Winning Numbers</th>\n",
       "      <th>Powerball</th>\n",
       "      <th>Power Play</th>\n",
       "      <th>Estimated Jackpot</th>\n",
       "      <th>Jackpot Winners</th>\n",
       "      <th>Jackpot Option</th>\n",
       "    </tr>\n",
       "  </thead>\n",
       "  <tbody>\n",
       "    <tr>\n",
       "      <th>0</th>\n",
       "      <td>2023-09-13</td>\n",
       "      <td>22 - 30 - 37 - 44 - 45</td>\n",
       "      <td>18</td>\n",
       "      <td>3</td>\n",
       "      <td>$550 Million</td>\n",
       "      <td>Roll</td>\n",
       "      <td>NaN</td>\n",
       "    </tr>\n",
       "    <tr>\n",
       "      <th>1</th>\n",
       "      <td>2023-09-11</td>\n",
       "      <td>9 - 25 - 27 - 53 - 66</td>\n",
       "      <td>5</td>\n",
       "      <td>2</td>\n",
       "      <td>$522 Million</td>\n",
       "      <td>Roll</td>\n",
       "      <td>NaN</td>\n",
       "    </tr>\n",
       "    <tr>\n",
       "      <th>2</th>\n",
       "      <td>2023-09-09</td>\n",
       "      <td>11 - 19 - 29 - 63 - 68</td>\n",
       "      <td>25</td>\n",
       "      <td>2</td>\n",
       "      <td>$500 Million</td>\n",
       "      <td>Roll</td>\n",
       "      <td>NaN</td>\n",
       "    </tr>\n",
       "    <tr>\n",
       "      <th>3</th>\n",
       "      <td>2023-09-06</td>\n",
       "      <td>9 - 14 - 20 - 23 - 63</td>\n",
       "      <td>1</td>\n",
       "      <td>3</td>\n",
       "      <td>$461 Million</td>\n",
       "      <td>Roll</td>\n",
       "      <td>NaN</td>\n",
       "    </tr>\n",
       "    <tr>\n",
       "      <th>4</th>\n",
       "      <td>2023-09-04</td>\n",
       "      <td>1 - 26 - 32 - 46 - 51</td>\n",
       "      <td>13</td>\n",
       "      <td>3</td>\n",
       "      <td>$435 Million</td>\n",
       "      <td>Roll</td>\n",
       "      <td>NaN</td>\n",
       "    </tr>\n",
       "  </tbody>\n",
       "</table>\n",
       "</div>"
      ],
      "text/plain": [
       "   Draw Date         Winning Numbers Powerball Power Play Estimated Jackpot  \\\n",
       "0 2023-09-13  22 - 30 - 37 - 44 - 45        18          3      $550 Million   \n",
       "1 2023-09-11   9 - 25 - 27 - 53 - 66         5          2      $522 Million   \n",
       "2 2023-09-09  11 - 19 - 29 - 63 - 68        25          2      $500 Million   \n",
       "3 2023-09-06   9 - 14 - 20 - 23 - 63         1          3      $461 Million   \n",
       "4 2023-09-04   1 - 26 - 32 - 46 - 51        13          3      $435 Million   \n",
       "\n",
       "  Jackpot Winners Jackpot Option  \n",
       "0            Roll            NaN  \n",
       "1            Roll            NaN  \n",
       "2            Roll            NaN  \n",
       "3            Roll            NaN  \n",
       "4            Roll            NaN  "
      ]
     },
     "execution_count": 132,
     "metadata": {},
     "output_type": "execute_result"
    }
   ],
   "source": [
    "newest_hist.head()"
   ]
  },
  {
   "cell_type": "code",
   "execution_count": 133,
   "metadata": {},
   "outputs": [],
   "source": [
    "historical_draws = []\n",
    "\n",
    "for i in range(len(newest_hist['Winning Numbers'])):\n",
    "    historical_draws.append([int(num) for num in newest_hist['Winning Numbers'][i].split(' - ')])"
   ]
  },
  {
   "cell_type": "code",
   "execution_count": 134,
   "metadata": {},
   "outputs": [],
   "source": [
    "simulated_draws = [sorted(np.random.choice(range(1, 70), 5, replace=False).tolist()) for _ in range(len(newest_hist['Winning Numbers']))]"
   ]
  },
  {
   "cell_type": "code",
   "execution_count": 135,
   "metadata": {},
   "outputs": [],
   "source": [
    "historical_flat = [item for sublist in historical_draws for item in sublist]\n",
    "simulated_flat = [item for sublist in simulated_draws for item in sublist]"
   ]
  },
  {
   "cell_type": "code",
   "execution_count": 136,
   "metadata": {
    "scrolled": true
   },
   "outputs": [
    {
     "data": {
      "image/png": "[encoded data removed]",
      "text/plain": [
       "<Figure size 432x288 with 1 Axes>"
      ]
     },
     "metadata": {
      "needs_background": "light"
     },
     "output_type": "display_data"
    }
   ],
   "source": [
    "sm.qqplot_2samples(np.array(historical_flat), np.array(simulated_flat), line='45')\n",
    "plt.xlabel('Historical Quantiles')\n",
    "plt.ylabel('Simulated Quantiles')\n",
    "plt.title('QQ Plot')\n",
    "plt.show()"
   ]
  },
  {
   "cell_type": "code",
   "execution_count": 137,
   "metadata": {},
   "outputs": [],
   "source": [
    "#The historical draws line up nearly perfect to that of the simulated draws\n",
    "#Here, we're able to prove that the lottery is fair and that there's no arbitrage opportunity"
   ]
  },
  {
   "cell_type": "markdown",
   "metadata": {},
   "source": [
    "# Powerball Number"
   ]
  },
  {
   "cell_type": "code",
   "execution_count": 138,
   "metadata": {},
   "outputs": [],
   "source": [
    "#However, does the same hold for the powerball number?"
   ]
  },
  {
   "cell_type": "code",
   "execution_count": 167,
   "metadata": {},
   "outputs": [],
   "source": [
    "newest_hist['Powerball'] = newest_hist['Powerball'].astype('int')"
   ]
  },
  {
   "cell_type": "code",
   "execution_count": 168,
   "metadata": {},
   "outputs": [],
   "source": [
    "historical_draws = [newest_hist['Powerball'].dropna()]"
   ]
  },
  {
   "cell_type": "code",
   "execution_count": 169,
   "metadata": {},
   "outputs": [],
   "source": [
    "simulated_draws = sorted([np.random.randint(1, 26) for i in range(len(newest_hist['Powerball'].dropna()))])"
   ]
  },
  {
   "cell_type": "code",
   "execution_count": 170,
   "metadata": {},
   "outputs": [
    {
     "data": {
      "image/png": "[encoded data removed]",
      "text/plain": [
       "<Figure size 432x288 with 1 Axes>"
      ]
     },
     "metadata": {
      "needs_background": "light"
     },
     "output_type": "display_data"
    }
   ],
   "source": [
    "sm.qqplot_2samples(np.array(historical_draws), np.array(simulated_draws), line='45')\n",
    "plt.xlabel('Historical Quantiles')\n",
    "plt.ylabel('Simulated Quantiles')\n",
    "plt.title('QQ Plot')\n",
    "plt.show()"
   ]
  },
  {
   "cell_type": "code",
   "execution_count": null,
   "metadata": {},
   "outputs": [],
   "source": []
  }
 ],
 "metadata": {
  "kernelspec": {
   "display_name": "Python 3",
   "language": "python",
   "name": "python3"
  },
  "language_info": {
   "codemirror_mode": {
    "name": "ipython",
    "version": 3
   },
   "file_extension": ".py",
   "mimetype": "text/x-python",
   "name": "python",
   "nbconvert_exporter": "python",
   "pygments_lexer": "ipython3",
   "version": "3.8.3"
  }
 },
 "nbformat": 4,
 "nbformat_minor": 4
}
