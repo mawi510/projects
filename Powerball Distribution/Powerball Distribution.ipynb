{
 "cells": [
  {
   "cell_type": "code",
   "execution_count": 1,
   "metadata": {},
   "outputs": [],
   "source": [
    "#The goal of this analysis is to identify whether the powerball is a fair lottery\n",
    "#Fair means the winning numbers in the powerball should align with the distribution of a random number generator\n",
    "#If not, this means the powerball isn't \"fair\" and favors certain types of number"
   ]
  },
  {
   "cell_type": "code",
   "execution_count": 2,
   "metadata": {},
   "outputs": [
    {
     "name": "stderr",
     "output_type": "stream",
     "text": [
      "/opt/miniconda3/lib/python3.8/site-packages/statsmodels/tsa/base/tsa_model.py:7: FutureWarning: pandas.Int64Index is deprecated and will be removed from pandas in a future version. Use pandas.Index with the appropriate dtype instead.\n",
      "  from pandas import (to_datetime, Int64Index, DatetimeIndex, Period,\n",
      "/opt/miniconda3/lib/python3.8/site-packages/statsmodels/tsa/base/tsa_model.py:7: FutureWarning: pandas.Float64Index is deprecated and will be removed from pandas in a future version. Use pandas.Index with the appropriate dtype instead.\n",
      "  from pandas import (to_datetime, Int64Index, DatetimeIndex, Period,\n"
     ]
    }
   ],
   "source": [
    "import pandas as pd\n",
    "import numpy as np\n",
    "import time\n",
    "from datetime import datetime, timedelta\n",
    "import requests as r\n",
    "import statsmodels.api as sm\n",
    "import matplotlib.pyplot as plt"
   ]
  },
  {
   "cell_type": "code",
   "execution_count": 3,
   "metadata": {},
   "outputs": [],
   "source": [
    "url = 'https://www.texaslottery.com/export/sites/lottery/Games/Powerball/Winning_Numbers/index.html_2013354932.html'\n",
    "powerball = pd.read_html(url)[0]"
   ]
  },
  {
   "cell_type": "code",
   "execution_count": 4,
   "metadata": {
    "scrolled": true
   },
   "outputs": [
    {
     "data": {
      "text/html": [
       "<div>\n",
       "<style scoped>\n",
       "    .dataframe tbody tr th:only-of-type {\n",
       "        vertical-align: middle;\n",
       "    }\n",
       "\n",
       "    .dataframe tbody tr th {\n",
       "        vertical-align: top;\n",
       "    }\n",
       "\n",
       "    .dataframe thead th {\n",
       "        text-align: right;\n",
       "    }\n",
       "</style>\n",
       "<table border=\"1\" class=\"dataframe\">\n",
       "  <thead>\n",
       "    <tr style=\"text-align: right;\">\n",
       "      <th></th>\n",
       "      <th>Draw Date</th>\n",
       "      <th>Winning Numbers</th>\n",
       "      <th>Powerball</th>\n",
       "      <th>Power Play</th>\n",
       "      <th>Estimated Jackpot</th>\n",
       "      <th>Jackpot Winners</th>\n",
       "      <th>Jackpot Option</th>\n",
       "    </tr>\n",
       "  </thead>\n",
       "  <tbody>\n",
       "    <tr>\n",
       "      <th>0</th>\n",
       "      <td>10/16/2023</td>\n",
       "      <td>2 - 27 - 31 - 44 - 64</td>\n",
       "      <td>18</td>\n",
       "      <td>3</td>\n",
       "      <td>$34 Million</td>\n",
       "      <td>Roll</td>\n",
       "      <td>NaN</td>\n",
       "    </tr>\n",
       "    <tr>\n",
       "      <th>1</th>\n",
       "      <td>10/14/2023</td>\n",
       "      <td>14 - 16 - 42 - 48 - 64</td>\n",
       "      <td>14</td>\n",
       "      <td>2</td>\n",
       "      <td>$20 Million</td>\n",
       "      <td>Roll</td>\n",
       "      <td>NaN</td>\n",
       "    </tr>\n",
       "    <tr>\n",
       "      <th>2</th>\n",
       "      <td>10/11/2023</td>\n",
       "      <td>22 - 24 - 40 - 52 - 64</td>\n",
       "      <td>10</td>\n",
       "      <td>2</td>\n",
       "      <td>$1.72 Billion</td>\n",
       "      <td>Out of State Winner</td>\n",
       "      <td>NaN</td>\n",
       "    </tr>\n",
       "    <tr>\n",
       "      <th>3</th>\n",
       "      <td>10/09/2023</td>\n",
       "      <td>16 - 34 - 46 - 55 - 67</td>\n",
       "      <td>14</td>\n",
       "      <td>3</td>\n",
       "      <td>$1.55 Billion</td>\n",
       "      <td>Roll</td>\n",
       "      <td>NaN</td>\n",
       "    </tr>\n",
       "    <tr>\n",
       "      <th>4</th>\n",
       "      <td>10/07/2023</td>\n",
       "      <td>47 - 54 - 57 - 60 - 65</td>\n",
       "      <td>19</td>\n",
       "      <td>3</td>\n",
       "      <td>$1.40 Billion</td>\n",
       "      <td>Roll</td>\n",
       "      <td>NaN</td>\n",
       "    </tr>\n",
       "  </tbody>\n",
       "</table>\n",
       "</div>"
      ],
      "text/plain": [
       "    Draw Date         Winning Numbers Powerball Power Play Estimated Jackpot  \\\n",
       "0  10/16/2023   2 - 27 - 31 - 44 - 64        18          3       $34 Million   \n",
       "1  10/14/2023  14 - 16 - 42 - 48 - 64        14          2       $20 Million   \n",
       "2  10/11/2023  22 - 24 - 40 - 52 - 64        10          2     $1.72 Billion   \n",
       "3  10/09/2023  16 - 34 - 46 - 55 - 67        14          3     $1.55 Billion   \n",
       "4  10/07/2023  47 - 54 - 57 - 60 - 65        19          3     $1.40 Billion   \n",
       "\n",
       "       Jackpot Winners Jackpot Option  \n",
       "0                 Roll            NaN  \n",
       "1                 Roll            NaN  \n",
       "2  Out of State Winner            NaN  \n",
       "3                 Roll            NaN  \n",
       "4                 Roll            NaN  "
      ]
     },
     "execution_count": 4,
     "metadata": {},
     "output_type": "execute_result"
    }
   ],
   "source": [
    "powerball.head()"
   ]
  },
  {
   "cell_type": "code",
   "execution_count": 5,
   "metadata": {},
   "outputs": [],
   "source": [
    "#There are a couple title rows, so we'll remove them"
   ]
  },
  {
   "cell_type": "code",
   "execution_count": 6,
   "metadata": {},
   "outputs": [],
   "source": [
    "powerball = powerball.drop(powerball[powerball['Powerball'] == 'First Drawing for new $2 Powerball matrix was 1/18/2012.'].index)\n",
    "powerball = powerball.drop(powerball[powerball['Powerball'] == 'First Drawing for new Powerball matrix was 10/07/2015.'].index)"
   ]
  },
  {
   "cell_type": "code",
   "execution_count": 7,
   "metadata": {},
   "outputs": [],
   "source": [
    "powerball = powerball.reset_index(drop=True)"
   ]
  },
  {
   "cell_type": "code",
   "execution_count": 8,
   "metadata": {},
   "outputs": [],
   "source": [
    "powerball['Draw Date'] = pd.to_datetime(powerball['Draw Date'])"
   ]
  },
  {
   "cell_type": "code",
   "execution_count": 9,
   "metadata": {
    "scrolled": true
   },
   "outputs": [
    {
     "data": {
      "text/html": [
       "<div>\n",
       "<style scoped>\n",
       "    .dataframe tbody tr th:only-of-type {\n",
       "        vertical-align: middle;\n",
       "    }\n",
       "\n",
       "    .dataframe tbody tr th {\n",
       "        vertical-align: top;\n",
       "    }\n",
       "\n",
       "    .dataframe thead th {\n",
       "        text-align: right;\n",
       "    }\n",
       "</style>\n",
       "<table border=\"1\" class=\"dataframe\">\n",
       "  <thead>\n",
       "    <tr style=\"text-align: right;\">\n",
       "      <th></th>\n",
       "      <th>Draw Date</th>\n",
       "      <th>Winning Numbers</th>\n",
       "      <th>Powerball</th>\n",
       "      <th>Power Play</th>\n",
       "      <th>Estimated Jackpot</th>\n",
       "      <th>Jackpot Winners</th>\n",
       "      <th>Jackpot Option</th>\n",
       "    </tr>\n",
       "  </thead>\n",
       "  <tbody>\n",
       "    <tr>\n",
       "      <th>0</th>\n",
       "      <td>2023-10-16</td>\n",
       "      <td>2 - 27 - 31 - 44 - 64</td>\n",
       "      <td>18</td>\n",
       "      <td>3</td>\n",
       "      <td>$34 Million</td>\n",
       "      <td>Roll</td>\n",
       "      <td>NaN</td>\n",
       "    </tr>\n",
       "    <tr>\n",
       "      <th>1</th>\n",
       "      <td>2023-10-14</td>\n",
       "      <td>14 - 16 - 42 - 48 - 64</td>\n",
       "      <td>14</td>\n",
       "      <td>2</td>\n",
       "      <td>$20 Million</td>\n",
       "      <td>Roll</td>\n",
       "      <td>NaN</td>\n",
       "    </tr>\n",
       "    <tr>\n",
       "      <th>2</th>\n",
       "      <td>2023-10-11</td>\n",
       "      <td>22 - 24 - 40 - 52 - 64</td>\n",
       "      <td>10</td>\n",
       "      <td>2</td>\n",
       "      <td>$1.72 Billion</td>\n",
       "      <td>Out of State Winner</td>\n",
       "      <td>NaN</td>\n",
       "    </tr>\n",
       "    <tr>\n",
       "      <th>3</th>\n",
       "      <td>2023-10-09</td>\n",
       "      <td>16 - 34 - 46 - 55 - 67</td>\n",
       "      <td>14</td>\n",
       "      <td>3</td>\n",
       "      <td>$1.55 Billion</td>\n",
       "      <td>Roll</td>\n",
       "      <td>NaN</td>\n",
       "    </tr>\n",
       "    <tr>\n",
       "      <th>4</th>\n",
       "      <td>2023-10-07</td>\n",
       "      <td>47 - 54 - 57 - 60 - 65</td>\n",
       "      <td>19</td>\n",
       "      <td>3</td>\n",
       "      <td>$1.40 Billion</td>\n",
       "      <td>Roll</td>\n",
       "      <td>NaN</td>\n",
       "    </tr>\n",
       "  </tbody>\n",
       "</table>\n",
       "</div>"
      ],
      "text/plain": [
       "   Draw Date         Winning Numbers Powerball Power Play Estimated Jackpot  \\\n",
       "0 2023-10-16   2 - 27 - 31 - 44 - 64        18          3       $34 Million   \n",
       "1 2023-10-14  14 - 16 - 42 - 48 - 64        14          2       $20 Million   \n",
       "2 2023-10-11  22 - 24 - 40 - 52 - 64        10          2     $1.72 Billion   \n",
       "3 2023-10-09  16 - 34 - 46 - 55 - 67        14          3     $1.55 Billion   \n",
       "4 2023-10-07  47 - 54 - 57 - 60 - 65        19          3     $1.40 Billion   \n",
       "\n",
       "       Jackpot Winners Jackpot Option  \n",
       "0                 Roll            NaN  \n",
       "1                 Roll            NaN  \n",
       "2  Out of State Winner            NaN  \n",
       "3                 Roll            NaN  \n",
       "4                 Roll            NaN  "
      ]
     },
     "execution_count": 9,
     "metadata": {},
     "output_type": "execute_result"
    }
   ],
   "source": [
    "powerball.head()"
   ]
  },
  {
   "cell_type": "code",
   "execution_count": 10,
   "metadata": {},
   "outputs": [],
   "source": [
    "#Based on the Powerball rules, the 5 winning numbers selected DO NOT have to be in order\n",
    "#Simply just that you selected the right numbers, which ranges from 1 to 69\n",
    "#The Powerball ranges from 1 to 26\n",
    "#Jackpot is selecting the correct winning numbers and the correct powerball\n",
    "\n",
    "#Powerplay is a non-jackpot winnings multiplier\n",
    "#It costs an extra dollar, but it can increase your non-jackpot winnings up to 10x\n",
    "#10x only applies when jackpot is <= 150M\n",
    "\n",
    "#Non-jackpot winnings are set cash amounts: https://www.powerball.com/powerball-prize-chart\n",
    "#Further rules are here: \n",
    "#https://www.powerball.com/#:~:text=Select%20five%20numbers%20between%201,terminal%20randomly%20pick%20your%20numbers."
   ]
  },
  {
   "cell_type": "code",
   "execution_count": 11,
   "metadata": {},
   "outputs": [],
   "source": [
    "#I couldn't confirm this on the site, but it seems like the winning numbers do not repeat\n",
    "#This means the numbers are selected WIHOUT replacement"
   ]
  },
  {
   "cell_type": "code",
   "execution_count": 12,
   "metadata": {},
   "outputs": [],
   "source": [
    "#We have two main distributions to compare\n",
    "#We have the distribution of the winning numbers\n",
    "#Then we have a distribution for the powerball"
   ]
  },
  {
   "cell_type": "code",
   "execution_count": 13,
   "metadata": {},
   "outputs": [],
   "source": [
    "#If the powerball is fair, then these distributions should represent a uniform distribution"
   ]
  },
  {
   "cell_type": "code",
   "execution_count": 14,
   "metadata": {},
   "outputs": [],
   "source": [
    "#The newest rules went into place Oct 7th 2015, so we'll need to filter our table for this time\n",
    "#Based on: https://en.wikipedia.org/wiki/Powerball#Basic_game"
   ]
  },
  {
   "cell_type": "markdown",
   "metadata": {},
   "source": [
    "# Winning Numbers"
   ]
  },
  {
   "cell_type": "code",
   "execution_count": 15,
   "metadata": {},
   "outputs": [],
   "source": [
    "#Let's make a random simulation of the powerball numbers\n",
    "#Again, order doesn't matter, just that you have the 5 winning"
   ]
  },
  {
   "cell_type": "code",
   "execution_count": 16,
   "metadata": {},
   "outputs": [],
   "source": [
    "#Again, we need to filter for Oct 7th 2015 as this is when the current rules went into affect"
   ]
  },
  {
   "cell_type": "code",
   "execution_count": 17,
   "metadata": {},
   "outputs": [],
   "source": [
    "newest_hist = powerball[powerball['Draw Date'] >= '2015-10-07'].reset_index(drop=True)"
   ]
  },
  {
   "cell_type": "code",
   "execution_count": 18,
   "metadata": {},
   "outputs": [
    {
     "data": {
      "text/html": [
       "<div>\n",
       "<style scoped>\n",
       "    .dataframe tbody tr th:only-of-type {\n",
       "        vertical-align: middle;\n",
       "    }\n",
       "\n",
       "    .dataframe tbody tr th {\n",
       "        vertical-align: top;\n",
       "    }\n",
       "\n",
       "    .dataframe thead th {\n",
       "        text-align: right;\n",
       "    }\n",
       "</style>\n",
       "<table border=\"1\" class=\"dataframe\">\n",
       "  <thead>\n",
       "    <tr style=\"text-align: right;\">\n",
       "      <th></th>\n",
       "      <th>Draw Date</th>\n",
       "      <th>Winning Numbers</th>\n",
       "      <th>Powerball</th>\n",
       "      <th>Power Play</th>\n",
       "      <th>Estimated Jackpot</th>\n",
       "      <th>Jackpot Winners</th>\n",
       "      <th>Jackpot Option</th>\n",
       "    </tr>\n",
       "  </thead>\n",
       "  <tbody>\n",
       "    <tr>\n",
       "      <th>0</th>\n",
       "      <td>2023-10-16</td>\n",
       "      <td>2 - 27 - 31 - 44 - 64</td>\n",
       "      <td>18</td>\n",
       "      <td>3</td>\n",
       "      <td>$34 Million</td>\n",
       "      <td>Roll</td>\n",
       "      <td>NaN</td>\n",
       "    </tr>\n",
       "    <tr>\n",
       "      <th>1</th>\n",
       "      <td>2023-10-14</td>\n",
       "      <td>14 - 16 - 42 - 48 - 64</td>\n",
       "      <td>14</td>\n",
       "      <td>2</td>\n",
       "      <td>$20 Million</td>\n",
       "      <td>Roll</td>\n",
       "      <td>NaN</td>\n",
       "    </tr>\n",
       "    <tr>\n",
       "      <th>2</th>\n",
       "      <td>2023-10-11</td>\n",
       "      <td>22 - 24 - 40 - 52 - 64</td>\n",
       "      <td>10</td>\n",
       "      <td>2</td>\n",
       "      <td>$1.72 Billion</td>\n",
       "      <td>Out of State Winner</td>\n",
       "      <td>NaN</td>\n",
       "    </tr>\n",
       "    <tr>\n",
       "      <th>3</th>\n",
       "      <td>2023-10-09</td>\n",
       "      <td>16 - 34 - 46 - 55 - 67</td>\n",
       "      <td>14</td>\n",
       "      <td>3</td>\n",
       "      <td>$1.55 Billion</td>\n",
       "      <td>Roll</td>\n",
       "      <td>NaN</td>\n",
       "    </tr>\n",
       "    <tr>\n",
       "      <th>4</th>\n",
       "      <td>2023-10-07</td>\n",
       "      <td>47 - 54 - 57 - 60 - 65</td>\n",
       "      <td>19</td>\n",
       "      <td>3</td>\n",
       "      <td>$1.40 Billion</td>\n",
       "      <td>Roll</td>\n",
       "      <td>NaN</td>\n",
       "    </tr>\n",
       "  </tbody>\n",
       "</table>\n",
       "</div>"
      ],
      "text/plain": [
       "   Draw Date         Winning Numbers Powerball Power Play Estimated Jackpot  \\\n",
       "0 2023-10-16   2 - 27 - 31 - 44 - 64        18          3       $34 Million   \n",
       "1 2023-10-14  14 - 16 - 42 - 48 - 64        14          2       $20 Million   \n",
       "2 2023-10-11  22 - 24 - 40 - 52 - 64        10          2     $1.72 Billion   \n",
       "3 2023-10-09  16 - 34 - 46 - 55 - 67        14          3     $1.55 Billion   \n",
       "4 2023-10-07  47 - 54 - 57 - 60 - 65        19          3     $1.40 Billion   \n",
       "\n",
       "       Jackpot Winners Jackpot Option  \n",
       "0                 Roll            NaN  \n",
       "1                 Roll            NaN  \n",
       "2  Out of State Winner            NaN  \n",
       "3                 Roll            NaN  \n",
       "4                 Roll            NaN  "
      ]
     },
     "execution_count": 18,
     "metadata": {},
     "output_type": "execute_result"
    }
   ],
   "source": [
    "newest_hist.head()"
   ]
  },
  {
   "cell_type": "code",
   "execution_count": 19,
   "metadata": {},
   "outputs": [],
   "source": [
    "historical_draws = []\n",
    "\n",
    "for i in range(len(newest_hist['Winning Numbers'])):\n",
    "    #We have the number in a list, so I'm removing the ' - ' and then extracting each integer\n",
    "    historical_draws.append([int(num) for num in newest_hist['Winning Numbers'][i].split(' - ')])"
   ]
  },
  {
   "cell_type": "code",
   "execution_count": 20,
   "metadata": {},
   "outputs": [],
   "source": [
    "simulated_draws = [sorted(np.random.choice(range(1, 70), 5, replace=False).tolist()) for _ in range(len(newest_hist['Winning Numbers']))]"
   ]
  },
  {
   "cell_type": "code",
   "execution_count": 21,
   "metadata": {},
   "outputs": [],
   "source": [
    "historical_flat = [item for sublist in historical_draws for item in sublist]\n",
    "simulated_flat = [item for sublist in simulated_draws for item in sublist]"
   ]
  },
  {
   "cell_type": "code",
   "execution_count": 22,
   "metadata": {
    "scrolled": true
   },
   "outputs": [
    {
     "data": {
      "image/png": "[encoded data removed]",
      "text/plain": [
       "<Figure size 432x288 with 1 Axes>"
      ]
     },
     "metadata": {
      "needs_background": "light"
     },
     "output_type": "display_data"
    }
   ],
   "source": [
    "sm.qqplot_2samples(np.array(historical_flat), np.array(simulated_flat), line='45')\n",
    "plt.xlabel('Historical Quantiles')\n",
    "plt.ylabel('Simulated Quantiles')\n",
    "plt.title('QQ Plot')\n",
    "plt.savefig('powerball_qqplot_image.png', format='png', dpi=100)\n",
    "plt.show()"
   ]
  },
  {
   "cell_type": "code",
   "execution_count": 23,
   "metadata": {},
   "outputs": [],
   "source": [
    "#The historical draws line up nearly perfect to that of the simulated draws\n",
    "#Here, we're able to prove that the lottery is fair and that there's no arbitrage opportunity"
   ]
  },
  {
   "cell_type": "markdown",
   "metadata": {},
   "source": [
    "# Powerball Number"
   ]
  },
  {
   "cell_type": "code",
   "execution_count": 24,
   "metadata": {},
   "outputs": [],
   "source": [
    "#However, does the same hold for the powerball number?"
   ]
  },
  {
   "cell_type": "code",
   "execution_count": 25,
   "metadata": {},
   "outputs": [],
   "source": [
    "newest_hist['Powerball'] = newest_hist['Powerball'].astype('int')"
   ]
  },
  {
   "cell_type": "code",
   "execution_count": 26,
   "metadata": {},
   "outputs": [],
   "source": [
    "historical_draws = sorted([i for i in newest_hist['Powerball'].dropna()])"
   ]
  },
  {
   "cell_type": "code",
   "execution_count": 27,
   "metadata": {},
   "outputs": [],
   "source": [
    "simulated_draws = sorted([np.random.randint(1, 26) for i in range(len(newest_hist['Powerball'].dropna()))])"
   ]
  },
  {
   "cell_type": "code",
   "execution_count": 28,
   "metadata": {
    "scrolled": false
   },
   "outputs": [
    {
     "data": {
      "image/png": "[encoded data removed]",
      "text/plain": [
       "<Figure size 432x288 with 1 Axes>"
      ]
     },
     "metadata": {
      "needs_background": "light"
     },
     "output_type": "display_data"
    }
   ],
   "source": [
    "sm.qqplot_2samples(np.array(historical_draws), np.array(simulated_draws), line='45')\n",
    "plt.xlabel('Historical Quantiles')\n",
    "plt.ylabel('Simulated Quantiles')\n",
    "plt.title('QQ Plot')\n",
    "plt.show()"
   ]
  },
  {
   "cell_type": "code",
   "execution_count": 29,
   "metadata": {},
   "outputs": [],
   "source": [
    "#Once again, we see the distribution of powerball numbes match that of a simulated distribution"
   ]
  }
 ],
 "metadata": {
  "kernelspec": {
   "display_name": "Python 3",
   "language": "python",
   "name": "python3"
  },
  "language_info": {
   "codemirror_mode": {
    "name": "ipython",
    "version": 3
   },
   "file_extension": ".py",
   "mimetype": "text/x-python",
   "name": "python",
   "nbconvert_exporter": "python",
   "pygments_lexer": "ipython3",
   "version": "3.8.3"
  }
 },
 "nbformat": 4,
 "nbformat_minor": 4
}
