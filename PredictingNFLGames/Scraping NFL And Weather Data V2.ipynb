{
 "cells": [
  {
   "cell_type": "code",
   "execution_count": 21,
   "metadata": {},
   "outputs": [],
   "source": [
    "import pandas as pd\n",
    "import numpy as np\n",
    "import time\n",
    "from datetime import datetime, timedelta\n",
    "import requests as r\n",
    "from http.client import IncompleteRead\n",
    "import nfl_data_py as nfl"
   ]
  },
  {
   "cell_type": "code",
   "execution_count": 22,
   "metadata": {},
   "outputs": [
    {
     "name": "stdout",
     "output_type": "stream",
     "text": [
      "20\n"
     ]
    }
   ],
   "source": [
    "#If the table reached column limit, use below\n",
    "# pd.options.display.max_columns = 500\n",
    "\n",
    "\n",
    "print (pd.options.display.max_columns) # <--- this will display your limit "
   ]
  },
  {
   "cell_type": "code",
   "execution_count": 23,
   "metadata": {},
   "outputs": [],
   "source": [
    "#We'll get actual performance data from nfl data py (Python vesion of nflfastR) \n",
    "#Github repo: https://github.com/cooperdff/nfl_data_py"
   ]
  },
  {
   "cell_type": "markdown",
   "metadata": {},
   "source": [
    "# Performance Data"
   ]
  },
  {
   "cell_type": "code",
   "execution_count": 24,
   "metadata": {},
   "outputs": [],
   "source": [
    "#Rather than manually change the date range to add new seasons, we can add a rule\n",
    "#This will simply check if today is before or after sept 1st\n",
    "#If it's before, we know the max season is the current year\n",
    "#Otherwise, it's the current year plus 1\n",
    "\n",
    "#So on Jan 1st 2025, the rule will ensure that we're still pulling for the 2024 season\n",
    "#And on Sept 1st 2025, the \"max year\" or the end of the range should be 2026\n",
    "\n",
    "if datetime.today().month >= 9:\n",
    "    max_year = datetime.today().year + 1\n",
    "else:\n",
    "    max_year = datetime.today().year"
   ]
  },
  {
   "cell_type": "code",
   "execution_count": 34,
   "metadata": {},
   "outputs": [
    {
     "data": {
      "text/plain": [
       "2024"
      ]
     },
     "execution_count": 34,
     "metadata": {},
     "output_type": "execute_result"
    }
   ],
   "source": [
    "max_year"
   ]
  },
  {
   "cell_type": "code",
   "execution_count": 35,
   "metadata": {},
   "outputs": [],
   "source": [
    "if datetime.today().month >= 2:\n",
    "    max_year = datetime.today().year + 1\n",
    "else:\n",
    "    max_year = datetime.today().year"
   ]
  },
  {
   "cell_type": "code",
   "execution_count": 36,
   "metadata": {},
   "outputs": [
    {
     "data": {
      "text/plain": [
       "2025"
      ]
     },
     "execution_count": 36,
     "metadata": {},
     "output_type": "execute_result"
    }
   ],
   "source": [
    "max_year"
   ]
  },
  {
   "cell_type": "code",
   "execution_count": 33,
   "metadata": {},
   "outputs": [],
   "source": [
    "years = [i for i in range(2018, max_year)]"
   ]
  },
  {
   "cell_type": "code",
   "execution_count": 27,
   "metadata": {
    "scrolled": true
   },
   "outputs": [
    {
     "name": "stdout",
     "output_type": "stream",
     "text": [
      "Downcasting floats.\n"
     ]
    }
   ],
   "source": [
    "weekly_data = nfl.import_weekly_data(years)"
   ]
  },
  {
   "cell_type": "code",
   "execution_count": 28,
   "metadata": {},
   "outputs": [],
   "source": [
    "#Let's filter for only regular season"
   ]
  },
  {
   "cell_type": "code",
   "execution_count": 29,
   "metadata": {},
   "outputs": [],
   "source": [
    "weekly_data = weekly_data[weekly_data['season_type'] == 'REG'].reset_index(drop=True)"
   ]
  },
  {
   "cell_type": "code",
   "execution_count": 30,
   "metadata": {
    "scrolled": true
   },
   "outputs": [
    {
     "data": {
      "text/html": [
       "<div>\n",
       "<style scoped>\n",
       "    .dataframe tbody tr th:only-of-type {\n",
       "        vertical-align: middle;\n",
       "    }\n",
       "\n",
       "    .dataframe tbody tr th {\n",
       "        vertical-align: top;\n",
       "    }\n",
       "\n",
       "    .dataframe thead th {\n",
       "        text-align: right;\n",
       "    }\n",
       "</style>\n",
       "<table border=\"1\" class=\"dataframe\">\n",
       "  <thead>\n",
       "    <tr style=\"text-align: right;\">\n",
       "      <th></th>\n",
       "      <th>player_id</th>\n",
       "      <th>player_name</th>\n",
       "      <th>player_display_name</th>\n",
       "      <th>position</th>\n",
       "      <th>position_group</th>\n",
       "      <th>headshot_url</th>\n",
       "      <th>recent_team</th>\n",
       "      <th>season</th>\n",
       "      <th>week</th>\n",
       "      <th>season_type</th>\n",
       "      <th>...</th>\n",
       "      <th>receiving_first_downs</th>\n",
       "      <th>receiving_epa</th>\n",
       "      <th>receiving_2pt_conversions</th>\n",
       "      <th>racr</th>\n",
       "      <th>target_share</th>\n",
       "      <th>air_yards_share</th>\n",
       "      <th>wopr</th>\n",
       "      <th>special_teams_tds</th>\n",
       "      <th>fantasy_points</th>\n",
       "      <th>fantasy_points_ppr</th>\n",
       "    </tr>\n",
       "  </thead>\n",
       "  <tbody>\n",
       "    <tr>\n",
       "      <th>0</th>\n",
       "      <td>00-0000003</td>\n",
       "      <td>None</td>\n",
       "      <td>Abdul-Karim al-Jabbar</td>\n",
       "      <td>RB</td>\n",
       "      <td>RB</td>\n",
       "      <td>None</td>\n",
       "      <td>MIA</td>\n",
       "      <td>1999</td>\n",
       "      <td>1</td>\n",
       "      <td>REG</td>\n",
       "      <td>...</td>\n",
       "      <td>0.0</td>\n",
       "      <td>0.292378</td>\n",
       "      <td>0</td>\n",
       "      <td>0.0</td>\n",
       "      <td>0.052632</td>\n",
       "      <td>NaN</td>\n",
       "      <td>NaN</td>\n",
       "      <td>0.0</td>\n",
       "      <td>12.7</td>\n",
       "      <td>13.7</td>\n",
       "    </tr>\n",
       "    <tr>\n",
       "      <th>1</th>\n",
       "      <td>00-0000003</td>\n",
       "      <td>None</td>\n",
       "      <td>Abdul-Karim al-Jabbar</td>\n",
       "      <td>RB</td>\n",
       "      <td>RB</td>\n",
       "      <td>None</td>\n",
       "      <td>MIA</td>\n",
       "      <td>1999</td>\n",
       "      <td>2</td>\n",
       "      <td>REG</td>\n",
       "      <td>...</td>\n",
       "      <td>1.0</td>\n",
       "      <td>0.377009</td>\n",
       "      <td>0</td>\n",
       "      <td>0.0</td>\n",
       "      <td>0.117647</td>\n",
       "      <td>NaN</td>\n",
       "      <td>NaN</td>\n",
       "      <td>0.0</td>\n",
       "      <td>5.1</td>\n",
       "      <td>8.1</td>\n",
       "    </tr>\n",
       "    <tr>\n",
       "      <th>2</th>\n",
       "      <td>00-0000003</td>\n",
       "      <td>None</td>\n",
       "      <td>Abdul-Karim al-Jabbar</td>\n",
       "      <td>RB</td>\n",
       "      <td>RB</td>\n",
       "      <td>None</td>\n",
       "      <td>MIA</td>\n",
       "      <td>1999</td>\n",
       "      <td>4</td>\n",
       "      <td>REG</td>\n",
       "      <td>...</td>\n",
       "      <td>0.0</td>\n",
       "      <td>-0.699578</td>\n",
       "      <td>0</td>\n",
       "      <td>NaN</td>\n",
       "      <td>0.023810</td>\n",
       "      <td>NaN</td>\n",
       "      <td>NaN</td>\n",
       "      <td>0.0</td>\n",
       "      <td>0.2</td>\n",
       "      <td>0.2</td>\n",
       "    </tr>\n",
       "    <tr>\n",
       "      <th>3</th>\n",
       "      <td>00-0000003</td>\n",
       "      <td>None</td>\n",
       "      <td>Abdul-Karim al-Jabbar</td>\n",
       "      <td>RB</td>\n",
       "      <td>RB</td>\n",
       "      <td>None</td>\n",
       "      <td>CLE</td>\n",
       "      <td>1999</td>\n",
       "      <td>7</td>\n",
       "      <td>REG</td>\n",
       "      <td>...</td>\n",
       "      <td>0.0</td>\n",
       "      <td>-0.228454</td>\n",
       "      <td>0</td>\n",
       "      <td>0.0</td>\n",
       "      <td>0.050000</td>\n",
       "      <td>NaN</td>\n",
       "      <td>NaN</td>\n",
       "      <td>0.0</td>\n",
       "      <td>3.5</td>\n",
       "      <td>5.5</td>\n",
       "    </tr>\n",
       "    <tr>\n",
       "      <th>4</th>\n",
       "      <td>00-0000003</td>\n",
       "      <td>None</td>\n",
       "      <td>Abdul-Karim al-Jabbar</td>\n",
       "      <td>RB</td>\n",
       "      <td>RB</td>\n",
       "      <td>None</td>\n",
       "      <td>CLE</td>\n",
       "      <td>1999</td>\n",
       "      <td>8</td>\n",
       "      <td>REG</td>\n",
       "      <td>...</td>\n",
       "      <td>0.0</td>\n",
       "      <td>NaN</td>\n",
       "      <td>0</td>\n",
       "      <td>NaN</td>\n",
       "      <td>NaN</td>\n",
       "      <td>NaN</td>\n",
       "      <td>NaN</td>\n",
       "      <td>0.0</td>\n",
       "      <td>3.9</td>\n",
       "      <td>3.9</td>\n",
       "    </tr>\n",
       "  </tbody>\n",
       "</table>\n",
       "<p>5 rows × 53 columns</p>\n",
       "</div>"
      ],
      "text/plain": [
       "    player_id player_name    player_display_name position position_group  \\\n",
       "0  00-0000003        None  Abdul-Karim al-Jabbar       RB             RB   \n",
       "1  00-0000003        None  Abdul-Karim al-Jabbar       RB             RB   \n",
       "2  00-0000003        None  Abdul-Karim al-Jabbar       RB             RB   \n",
       "3  00-0000003        None  Abdul-Karim al-Jabbar       RB             RB   \n",
       "4  00-0000003        None  Abdul-Karim al-Jabbar       RB             RB   \n",
       "\n",
       "  headshot_url recent_team  season  week season_type  ...  \\\n",
       "0         None         MIA    1999     1         REG  ...   \n",
       "1         None         MIA    1999     2         REG  ...   \n",
       "2         None         MIA    1999     4         REG  ...   \n",
       "3         None         CLE    1999     7         REG  ...   \n",
       "4         None         CLE    1999     8         REG  ...   \n",
       "\n",
       "  receiving_first_downs  receiving_epa  receiving_2pt_conversions  racr  \\\n",
       "0                   0.0       0.292378                          0   0.0   \n",
       "1                   1.0       0.377009                          0   0.0   \n",
       "2                   0.0      -0.699578                          0   NaN   \n",
       "3                   0.0      -0.228454                          0   0.0   \n",
       "4                   0.0            NaN                          0   NaN   \n",
       "\n",
       "   target_share  air_yards_share  wopr  special_teams_tds  fantasy_points  \\\n",
       "0      0.052632              NaN   NaN                0.0            12.7   \n",
       "1      0.117647              NaN   NaN                0.0             5.1   \n",
       "2      0.023810              NaN   NaN                0.0             0.2   \n",
       "3      0.050000              NaN   NaN                0.0             3.5   \n",
       "4           NaN              NaN   NaN                0.0             3.9   \n",
       "\n",
       "   fantasy_points_ppr  \n",
       "0                13.7  \n",
       "1                 8.1  \n",
       "2                 0.2  \n",
       "3                 5.5  \n",
       "4                 3.9  \n",
       "\n",
       "[5 rows x 53 columns]"
      ]
     },
     "execution_count": 30,
     "metadata": {},
     "output_type": "execute_result"
    }
   ],
   "source": [
    "weekly_data.head()"
   ]
  },
  {
   "cell_type": "code",
   "execution_count": 31,
   "metadata": {},
   "outputs": [],
   "source": [
    "#I want to organize these columns based on the team that's listed and their opponent\n",
    "#For the opponent, I want to capture these columns as defensive stats (yards allowed, etc)\n",
    "#The pfr table has opponent as a column, so let's use that"
   ]
  },
  {
   "cell_type": "code",
   "execution_count": 32,
   "metadata": {},
   "outputs": [
    {
     "ename": "ValueError",
     "evalue": "Data not available before 2018.",
     "output_type": "error",
     "traceback": [
      "\u001b[0;31m---------------------------------------------------------------------------\u001b[0m",
      "\u001b[0;31mValueError\u001b[0m                                Traceback (most recent call last)",
      "\u001b[0;32m<ipython-input-32-47f0f33a6dac>\u001b[0m in \u001b[0;36m<module>\u001b[0;34m\u001b[0m\n\u001b[0;32m----> 1\u001b[0;31m \u001b[0mweekly_pfr\u001b[0m \u001b[0;34m=\u001b[0m \u001b[0mnfl\u001b[0m\u001b[0;34m.\u001b[0m\u001b[0mimport_weekly_pfr\u001b[0m\u001b[0;34m(\u001b[0m\u001b[0;34m'pass'\u001b[0m\u001b[0;34m,\u001b[0m\u001b[0myears\u001b[0m\u001b[0;34m)\u001b[0m\u001b[0;34m\u001b[0m\u001b[0;34m\u001b[0m\u001b[0m\n\u001b[0m",
      "\u001b[0;32m/opt/miniconda3/lib/python3.8/site-packages/nfl_data_py/__init__.py\u001b[0m in \u001b[0;36mimport_weekly_pfr\u001b[0;34m(s_type, years)\u001b[0m\n\u001b[1;32m    964\u001b[0m     \"\"\"\n\u001b[1;32m    965\u001b[0m \u001b[0;34m\u001b[0m\u001b[0m\n\u001b[0;32m--> 966\u001b[0;31m     \u001b[0myears\u001b[0m \u001b[0;34m=\u001b[0m \u001b[0m__validate_pfr_inputs\u001b[0m\u001b[0;34m(\u001b[0m\u001b[0ms_type\u001b[0m\u001b[0;34m,\u001b[0m \u001b[0myears\u001b[0m\u001b[0;34m)\u001b[0m\u001b[0;34m\u001b[0m\u001b[0;34m\u001b[0m\u001b[0m\n\u001b[0m\u001b[1;32m    967\u001b[0m \u001b[0;34m\u001b[0m\u001b[0m\n\u001b[1;32m    968\u001b[0m     \u001b[0;32mif\u001b[0m \u001b[0mlen\u001b[0m\u001b[0;34m(\u001b[0m\u001b[0myears\u001b[0m\u001b[0;34m)\u001b[0m \u001b[0;34m==\u001b[0m \u001b[0;36m0\u001b[0m\u001b[0;34m:\u001b[0m\u001b[0;34m\u001b[0m\u001b[0;34m\u001b[0m\u001b[0m\n",
      "\u001b[0;32m/opt/miniconda3/lib/python3.8/site-packages/nfl_data_py/__init__.py\u001b[0m in \u001b[0;36m__validate_pfr_inputs\u001b[0;34m(s_type, years)\u001b[0m\n\u001b[1;32m    932\u001b[0m \u001b[0;34m\u001b[0m\u001b[0m\n\u001b[1;32m    933\u001b[0m     \u001b[0;32mif\u001b[0m \u001b[0myears\u001b[0m \u001b[0;32mand\u001b[0m \u001b[0mmin\u001b[0m\u001b[0;34m(\u001b[0m\u001b[0myears\u001b[0m\u001b[0;34m)\u001b[0m \u001b[0;34m<\u001b[0m \u001b[0;36m2018\u001b[0m\u001b[0;34m:\u001b[0m\u001b[0;34m\u001b[0m\u001b[0;34m\u001b[0m\u001b[0m\n\u001b[0;32m--> 934\u001b[0;31m         \u001b[0;32mraise\u001b[0m \u001b[0mValueError\u001b[0m\u001b[0;34m(\u001b[0m\u001b[0;34m'Data not available before 2018.'\u001b[0m\u001b[0;34m)\u001b[0m\u001b[0;34m\u001b[0m\u001b[0;34m\u001b[0m\u001b[0m\n\u001b[0m\u001b[1;32m    935\u001b[0m \u001b[0;34m\u001b[0m\u001b[0m\n\u001b[1;32m    936\u001b[0m     \u001b[0;32mreturn\u001b[0m \u001b[0myears\u001b[0m\u001b[0;34m\u001b[0m\u001b[0;34m\u001b[0m\u001b[0m\n",
      "\u001b[0;31mValueError\u001b[0m: Data not available before 2018."
     ]
    }
   ],
   "source": [
    "weekly_pfr = nfl.import_weekly_pfr('pass',years)"
   ]
  },
  {
   "cell_type": "code",
   "execution_count": null,
   "metadata": {},
   "outputs": [],
   "source": [
    "weekly_pfr = weekly_pfr[weekly_pfr['game_type'] == 'REG'].reset_index(drop=True)"
   ]
  },
  {
   "cell_type": "code",
   "execution_count": null,
   "metadata": {
    "scrolled": true
   },
   "outputs": [],
   "source": [
    "weekly_pfr.head()"
   ]
  },
  {
   "cell_type": "code",
   "execution_count": null,
   "metadata": {},
   "outputs": [],
   "source": [
    "team_opp = weekly_pfr[['season', 'week', 'team', 'opponent']]"
   ]
  },
  {
   "cell_type": "code",
   "execution_count": null,
   "metadata": {
    "scrolled": true
   },
   "outputs": [],
   "source": [
    "team_opp[team_opp['team'] == 'OAK'].head()"
   ]
  },
  {
   "cell_type": "code",
   "execution_count": null,
   "metadata": {},
   "outputs": [],
   "source": [
    "#Due to raiders moving, let's keep all raider rows as LV"
   ]
  },
  {
   "cell_type": "code",
   "execution_count": null,
   "metadata": {},
   "outputs": [],
   "source": [
    "team_opp.loc[team_opp['team'] == 'OAK', 'team'] = 'LV'\n",
    "team_opp.loc[team_opp['opponent'] == 'OAK', 'opponent'] = 'LV'"
   ]
  },
  {
   "cell_type": "code",
   "execution_count": null,
   "metadata": {},
   "outputs": [],
   "source": [
    "#Table is based on passing, so sometimes there's two QBs, so we need to drop duplicates as we just want opponent"
   ]
  },
  {
   "cell_type": "code",
   "execution_count": null,
   "metadata": {
    "scrolled": false
   },
   "outputs": [],
   "source": [
    "team_opp = team_opp.drop_duplicates()"
   ]
  },
  {
   "cell_type": "code",
   "execution_count": null,
   "metadata": {
    "scrolled": true
   },
   "outputs": [],
   "source": [
    "len(weekly_data)"
   ]
  },
  {
   "cell_type": "code",
   "execution_count": null,
   "metadata": {},
   "outputs": [],
   "source": [
    "len(team_opp)"
   ]
  },
  {
   "cell_type": "code",
   "execution_count": null,
   "metadata": {},
   "outputs": [],
   "source": [
    "#Lets add an opponent column to the \n",
    "weekly_data = weekly_data.merge(team_opp, left_on = ['recent_team', 'season', 'week'],\n",
    "                                right_on = ['team', 'season', 'week'],\n",
    "                                how='left'\n",
    "                               )"
   ]
  },
  {
   "cell_type": "code",
   "execution_count": null,
   "metadata": {},
   "outputs": [],
   "source": [
    "len(weekly_data)"
   ]
  },
  {
   "cell_type": "code",
   "execution_count": null,
   "metadata": {
    "scrolled": true
   },
   "outputs": [],
   "source": [
    "#Confirming we don't have null opponent names?\n",
    "weekly_data[weekly_data['opponent'].isna()].head()"
   ]
  },
  {
   "cell_type": "code",
   "execution_count": null,
   "metadata": {},
   "outputs": [],
   "source": [
    "#Definitions for columns can be found here: https://www.nflfastr.com/reference/calculate_player_stats.html"
   ]
  },
  {
   "cell_type": "code",
   "execution_count": null,
   "metadata": {},
   "outputs": [],
   "source": [
    "#Lets see what columns we have"
   ]
  },
  {
   "cell_type": "code",
   "execution_count": null,
   "metadata": {
    "scrolled": true
   },
   "outputs": [],
   "source": [
    "[f\"{value}, {i}\" for value, i in enumerate(nfl.see_weekly_cols())]"
   ]
  },
  {
   "cell_type": "code",
   "execution_count": null,
   "metadata": {},
   "outputs": [],
   "source": [
    "#We can group these by team by week to get either the sum or avg of certain columns\n",
    "#Group by team by week b/c this is at the player level"
   ]
  },
  {
   "cell_type": "code",
   "execution_count": null,
   "metadata": {},
   "outputs": [],
   "source": [
    "weekly_agg = weekly_data.groupby(['season', 'week', 'recent_team']).agg({'completions':'sum',\n",
    "                                                              'attempts':'sum',\n",
    "                                                              'passing_yards':'sum' ,\n",
    "                                                             'passing_tds':'sum', \n",
    "                                                             'interceptions':'sum',\n",
    "                                                             'sacks':'sum',\n",
    "                                                             'sack_yards':'sum',\n",
    "                                                             'sack_fumbles':'sum',\n",
    "                                                             'sack_fumbles_lost':'sum',\n",
    "                                                             'passing_air_yards':'sum',\n",
    "                                                             'passing_yards_after_catch':'sum',\n",
    "                                                             'passing_first_downs':'sum',\n",
    "                                                             'passing_epa':['mean','sum'],\n",
    "                                                             'passing_2pt_conversions':'sum',\n",
    "                                                             'dakota':'mean',\n",
    "                                                             'carries':'sum',\n",
    "                                                             'rushing_yards':'sum',\n",
    "                                                             'rushing_tds':'sum',\n",
    "                                                             'rushing_fumbles':'sum',\n",
    "                                                             'rushing_fumbles_lost':'sum',\n",
    "                                                             'rushing_first_downs':'sum',\n",
    "                                                             'rushing_epa':['mean','sum'],\n",
    "                                                             'rushing_2pt_conversions':'sum',\n",
    "                                                             'receptions':'sum',\n",
    "                                                             'targets':'sum',\n",
    "                                                             'receiving_yards':'sum',\n",
    "                                                             'receiving_tds':'sum',\n",
    "                                                             'receiving_fumbles':'sum',\n",
    "                                                             'receiving_fumbles_lost':'sum',\n",
    "                                                             'receiving_air_yards':'sum',\n",
    "                                                             'receiving_yards_after_catch':'sum',\n",
    "                                                             'receiving_first_downs':'sum',\n",
    "                                                             'receiving_epa':['mean','sum'],\n",
    "                                                             'receiving_2pt_conversions':'sum',\n",
    "                                                             'wopr':['mean','sum'],\n",
    "                                                             'special_teams_tds':'sum',\n",
    "                                                             'fantasy_points':'sum',\n",
    "                                                             'fantasy_points_ppr':'sum'\n",
    "                                                              }).reset_index()"
   ]
  },
  {
   "cell_type": "code",
   "execution_count": null,
   "metadata": {},
   "outputs": [],
   "source": [
    "weekly_agg = weekly_agg.droplevel(1,axis=1)"
   ]
  },
  {
   "cell_type": "code",
   "execution_count": null,
   "metadata": {},
   "outputs": [],
   "source": [
    "#Columns to re-create with game totals:\n",
    "#PACR: Passing yards / Passing air yards\n",
    "#RACR: Receiving yards / Receiving air yards"
   ]
  },
  {
   "cell_type": "code",
   "execution_count": null,
   "metadata": {},
   "outputs": [],
   "source": [
    "weekly_agg['pacr'] = weekly_agg['passing_yards'] / weekly_agg['passing_air_yards']"
   ]
  },
  {
   "cell_type": "code",
   "execution_count": null,
   "metadata": {},
   "outputs": [],
   "source": [
    "weekly_agg['racr'] = weekly_agg['receiving_yards'] / weekly_agg['receiving_air_yards']"
   ]
  },
  {
   "cell_type": "code",
   "execution_count": null,
   "metadata": {
    "scrolled": true
   },
   "outputs": [],
   "source": [
    "weekly_agg.index.is_unique"
   ]
  },
  {
   "cell_type": "code",
   "execution_count": null,
   "metadata": {},
   "outputs": [],
   "source": [
    "#Since we dropped the multi-level index, some columns have the same name b/c it's referring mean or sum\n",
    "#Manually renaming them because identifying by name will change all columns with the same name"
   ]
  },
  {
   "cell_type": "code",
   "execution_count": null,
   "metadata": {},
   "outputs": [],
   "source": [
    "weekly_agg.columns"
   ]
  },
  {
   "cell_type": "code",
   "execution_count": null,
   "metadata": {},
   "outputs": [],
   "source": [
    "weekly_agg.columns = ['season','week', 'team', 'completions', 'attempts', 'passing_yards',\n",
    "       'passing_tds', 'interceptions', 'sacks', 'sack_yards', 'sack_fumbles',\n",
    "       'sack_fumbles_lost', 'passing_air_yards', 'passing_yards_after_catch',\n",
    "       'passing_first_downs', 'avg_passing_epa', 'total_passing_epa', 'passing_2pt_conversions', \n",
    "        'dakota', 'carries', 'rushing_yards', 'rushing_tds', 'rushing_fumbles', 'rushing_fumbles_lost',\n",
    "       'rushing_first_downs', 'avg_rushing_epa', 'total_rushing_epa','rushing_2pt_conversions',\n",
    "        'receptions', 'targets', 'receiving_yards',\n",
    "       'receiving_tds', 'receiving_fumbles', 'receiving_fumbles_lost',\n",
    "       'receiving_air_yards', 'receiving_yards_after_catch',\n",
    "       'receiving_first_downs', 'avg_receiving_epa', 'total_receiving_epa',\n",
    "       'receiving_2pt_conversions', 'avg_wopr', 'total_wopr', 'special_teams_tds',\n",
    "       'fantasy_points', 'fantasy_points_ppr', 'pacr', 'racr']"
   ]
  },
  {
   "cell_type": "code",
   "execution_count": null,
   "metadata": {
    "scrolled": true
   },
   "outputs": [],
   "source": [
    "weekly_agg.columns"
   ]
  },
  {
   "cell_type": "code",
   "execution_count": null,
   "metadata": {},
   "outputs": [],
   "source": [
    "weekly_agg.head()"
   ]
  },
  {
   "cell_type": "code",
   "execution_count": null,
   "metadata": {},
   "outputs": [],
   "source": [
    "#This dataset doesn't have defensive stats\n",
    "#But if we group by opponent, we can get the same stats but as \"allowed\"\n",
    "#For example, bucs v dal week 1 2021, bucs passing yards = dal passing yards allowed"
   ]
  },
  {
   "cell_type": "code",
   "execution_count": null,
   "metadata": {},
   "outputs": [],
   "source": [
    "weekly_agg_def = weekly_data.groupby(['season', 'week', 'opponent']).agg({'completions':'sum',\n",
    "                                                              'attempts':'sum',\n",
    "                                                              'passing_yards':'sum' ,\n",
    "                                                             'passing_tds':'sum', \n",
    "                                                             'interceptions':'sum',\n",
    "                                                             'sacks':'sum',\n",
    "                                                             'sack_yards':'sum',\n",
    "                                                             'sack_fumbles':'sum',\n",
    "                                                             'sack_fumbles_lost':'sum',\n",
    "                                                             'passing_air_yards':'sum',\n",
    "                                                             'passing_yards_after_catch':'sum',\n",
    "                                                             'passing_first_downs':'sum',\n",
    "                                                             'passing_epa':['mean','sum'],\n",
    "                                                             'passing_2pt_conversions':'sum',\n",
    "                                                             'dakota':'mean',\n",
    "                                                             'carries':'sum',\n",
    "                                                             'rushing_yards':'sum',\n",
    "                                                             'rushing_tds':'sum',\n",
    "                                                             'rushing_fumbles':'sum',\n",
    "                                                             'rushing_fumbles_lost':'sum',\n",
    "                                                             'rushing_first_downs':'sum',\n",
    "                                                             'rushing_epa':['mean','sum'],\n",
    "                                                             'rushing_2pt_conversions':'sum',\n",
    "                                                             'receptions':'sum',\n",
    "                                                             'targets':'sum',\n",
    "                                                             'receiving_yards':'sum',\n",
    "                                                             'receiving_tds':'sum',\n",
    "                                                             'receiving_fumbles':'sum',\n",
    "                                                             'receiving_fumbles_lost':'sum',\n",
    "                                                             'receiving_air_yards':'sum',\n",
    "                                                             'receiving_yards_after_catch':'sum',\n",
    "                                                             'receiving_first_downs':'sum',\n",
    "                                                             'receiving_epa':['mean','sum'],\n",
    "                                                             'receiving_2pt_conversions':'sum',\n",
    "                                                             'wopr':['mean','sum'],\n",
    "                                                             'special_teams_tds':'sum',\n",
    "                                                             'fantasy_points':'sum',\n",
    "                                                             'fantasy_points_ppr':'sum'\n",
    "                                                              }).reset_index()"
   ]
  },
  {
   "cell_type": "code",
   "execution_count": null,
   "metadata": {},
   "outputs": [],
   "source": [
    "weekly_agg_def = weekly_agg_def.droplevel(1,axis=1)"
   ]
  },
  {
   "cell_type": "code",
   "execution_count": null,
   "metadata": {},
   "outputs": [],
   "source": [
    "weekly_agg_def['pacr'] = weekly_agg_def['passing_yards'] / weekly_agg_def['passing_air_yards']"
   ]
  },
  {
   "cell_type": "code",
   "execution_count": null,
   "metadata": {},
   "outputs": [],
   "source": [
    "weekly_agg_def['racr'] = weekly_agg_def['receiving_yards'] / weekly_agg_def['receiving_air_yards']"
   ]
  },
  {
   "cell_type": "code",
   "execution_count": null,
   "metadata": {},
   "outputs": [],
   "source": [
    "#Since this is defensive allowed, we can take the columns from weekly_agg and add _allowed\n",
    "weekly_agg_def.columns = [i+'_allowed' if i not in ['season', 'week', 'team', 'opponent'] else i for i in weekly_agg.columns]"
   ]
  },
  {
   "cell_type": "code",
   "execution_count": null,
   "metadata": {},
   "outputs": [],
   "source": [
    "weekly_agg_def.columns"
   ]
  },
  {
   "cell_type": "code",
   "execution_count": null,
   "metadata": {
    "scrolled": false
   },
   "outputs": [],
   "source": [
    "weekly_agg_def.head()"
   ]
  },
  {
   "cell_type": "code",
   "execution_count": null,
   "metadata": {},
   "outputs": [],
   "source": [
    "#Sort the table by year, team, and week"
   ]
  },
  {
   "cell_type": "code",
   "execution_count": null,
   "metadata": {},
   "outputs": [],
   "source": [
    "weekly_agg = weekly_agg.sort_values(by=['season','team','week']).reset_index(drop=True)\n",
    "weekly_agg_def = weekly_agg_def.sort_values(by=['season','team','week']).reset_index(drop=True)"
   ]
  },
  {
   "cell_type": "code",
   "execution_count": null,
   "metadata": {},
   "outputs": [],
   "source": [
    "#Now let's join the two tables so we have both offense and defensive stats"
   ]
  },
  {
   "cell_type": "code",
   "execution_count": null,
   "metadata": {},
   "outputs": [],
   "source": [
    "weekly_agg = weekly_agg.merge(weekly_agg_def, on=['season','team','week'])"
   ]
  },
  {
   "cell_type": "code",
   "execution_count": null,
   "metadata": {
    "scrolled": false
   },
   "outputs": [],
   "source": [
    "weekly_agg.head()"
   ]
  },
  {
   "cell_type": "code",
   "execution_count": null,
   "metadata": {},
   "outputs": [],
   "source": [
    "#Lets get rolling values for these columns"
   ]
  },
  {
   "cell_type": "code",
   "execution_count": null,
   "metadata": {},
   "outputs": [],
   "source": [
    "original_week = weekly_agg['week'].copy()"
   ]
  },
  {
   "cell_type": "code",
   "execution_count": null,
   "metadata": {},
   "outputs": [],
   "source": [
    "weekly_agg_rolling = weekly_agg.groupby(['season', 'team'])[\n",
    "    [i for i in weekly_agg.columns if i not in ['season', 'week', 'team']]\n",
    "].rolling(3).mean().reset_index()"
   ]
  },
  {
   "cell_type": "code",
   "execution_count": null,
   "metadata": {},
   "outputs": [],
   "source": [
    "weekly_agg_rolling = weekly_agg_rolling.drop('level_2', axis=1)"
   ]
  },
  {
   "cell_type": "code",
   "execution_count": null,
   "metadata": {},
   "outputs": [],
   "source": [
    "weekly_agg_rolling['week'] = original_week"
   ]
  },
  {
   "cell_type": "code",
   "execution_count": null,
   "metadata": {},
   "outputs": [],
   "source": [
    "#Confirming the rolling is working as expected"
   ]
  },
  {
   "cell_type": "code",
   "execution_count": null,
   "metadata": {
    "scrolled": true
   },
   "outputs": [],
   "source": [
    "weekly_agg_rolling.iloc[14:25, :]"
   ]
  },
  {
   "cell_type": "code",
   "execution_count": null,
   "metadata": {},
   "outputs": [],
   "source": [
    "weekly_agg_rolling.columns = [i+'_rolling' if i not in ['season', 'week', 'team', 'opponent'] \\\n",
    "                              else i for i in weekly_agg_rolling.columns]"
   ]
  },
  {
   "cell_type": "code",
   "execution_count": null,
   "metadata": {},
   "outputs": [],
   "source": [
    "weekly_agg_rolling.head()"
   ]
  },
  {
   "cell_type": "code",
   "execution_count": null,
   "metadata": {},
   "outputs": [],
   "source": [
    "#Lets join the two tables"
   ]
  },
  {
   "cell_type": "code",
   "execution_count": null,
   "metadata": {},
   "outputs": [],
   "source": [
    "len(weekly_agg) == len(weekly_agg_rolling)"
   ]
  },
  {
   "cell_type": "code",
   "execution_count": null,
   "metadata": {},
   "outputs": [],
   "source": [
    "len(weekly_agg)"
   ]
  },
  {
   "cell_type": "code",
   "execution_count": null,
   "metadata": {},
   "outputs": [],
   "source": [
    "weekly_agg = weekly_agg.merge(weekly_agg_rolling, on=['season', 'week', 'team'])"
   ]
  },
  {
   "cell_type": "code",
   "execution_count": null,
   "metadata": {},
   "outputs": [],
   "source": [
    "len(weekly_agg)"
   ]
  },
  {
   "cell_type": "code",
   "execution_count": null,
   "metadata": {},
   "outputs": [],
   "source": [
    "weekly_agg.head()"
   ]
  },
  {
   "cell_type": "code",
   "execution_count": null,
   "metadata": {},
   "outputs": [],
   "source": [
    "#Lets get a rank of all our metrics"
   ]
  },
  {
   "cell_type": "code",
   "execution_count": null,
   "metadata": {},
   "outputs": [],
   "source": [
    "columns_to_rank = [i for i in weekly_agg.columns if i not in ['season', 'week', 'team', 'opponent']]"
   ]
  },
  {
   "cell_type": "code",
   "execution_count": null,
   "metadata": {},
   "outputs": [],
   "source": [
    "for col in columns_to_rank:\n",
    "    rank_col_name = f'rank_{col}_weekly'\n",
    "    weekly_agg[rank_col_name] = weekly_agg.groupby(['season', 'week'])[col].rank(ascending=False)"
   ]
  },
  {
   "cell_type": "code",
   "execution_count": null,
   "metadata": {
    "scrolled": true
   },
   "outputs": [],
   "source": [
    "weekly_agg.head()"
   ]
  },
  {
   "cell_type": "code",
   "execution_count": null,
   "metadata": {},
   "outputs": [],
   "source": [
    "#Let's rank columns based on what was done earlier in season"
   ]
  },
  {
   "cell_type": "code",
   "execution_count": null,
   "metadata": {},
   "outputs": [],
   "source": [
    "#First we get a sum or avg of these columns by season up to that point in the week"
   ]
  },
  {
   "cell_type": "code",
   "execution_count": null,
   "metadata": {},
   "outputs": [],
   "source": [
    "#First we'll get the columns that should be summed up (non-avg columns)"
   ]
  },
  {
   "cell_type": "code",
   "execution_count": null,
   "metadata": {},
   "outputs": [],
   "source": [
    "columns_to_sum = [i for i in weekly_agg.columns \\\n",
    "                  if i not in ['season', 'week', 'team','avg_passing_epa', 'dakota', 'avg_rushing_epa', \n",
    "                  'avg_receiving_epa', 'avg_wopr', 'pacr', 'racr',\n",
    "                              'avg_passing_epa_allowed', 'dakota_allowed', 'avg_rushing_epa_allowed', \n",
    "                  'avg_receiving_epa_allowed', 'avg_wopr_allowed', 'pacr_allowed', 'racr_allowed']\n",
    "                 and '_rolling' not in i\n",
    "                 and 'rank' not in i]"
   ]
  },
  {
   "cell_type": "code",
   "execution_count": null,
   "metadata": {
    "scrolled": true
   },
   "outputs": [],
   "source": [
    "columns_to_sum"
   ]
  },
  {
   "cell_type": "code",
   "execution_count": null,
   "metadata": {},
   "outputs": [],
   "source": [
    "for col in columns_to_sum:\n",
    "    expand_col_name = f'expand_{col}'\n",
    "    weekly_agg[expand_col_name] = weekly_agg.sort_values(by='week').groupby(['season', 'team'])[col].cumsum()"
   ]
  },
  {
   "cell_type": "code",
   "execution_count": null,
   "metadata": {
    "scrolled": false
   },
   "outputs": [],
   "source": [
    "weekly_agg.head()"
   ]
  },
  {
   "cell_type": "code",
   "execution_count": null,
   "metadata": {},
   "outputs": [],
   "source": [
    "#Lets check this is working"
   ]
  },
  {
   "cell_type": "code",
   "execution_count": null,
   "metadata": {},
   "outputs": [],
   "source": [
    "weekly_agg[['season', 'week', 'team','completions', 'expand_completions']].iloc[:25, :]"
   ]
  },
  {
   "cell_type": "code",
   "execution_count": null,
   "metadata": {},
   "outputs": [],
   "source": [
    "#Great, lets do this for averages"
   ]
  },
  {
   "cell_type": "code",
   "execution_count": null,
   "metadata": {},
   "outputs": [],
   "source": [
    "colums_to_expand_avg = ['avg_passing_epa',\n",
    "                       'dakota',\n",
    "                       'avg_rushing_epa',\n",
    "                       'avg_receiving_epa',\n",
    "                       'avg_wopr',\n",
    "                       'pacr', \n",
    "                       'racr',\n",
    "                       'avg_passing_epa_allowed', 'dakota_allowed', 'avg_rushing_epa_allowed', \n",
    "                  'avg_receiving_epa_allowed', 'avg_wopr_allowed', 'pacr_allowed', 'racr_allowed']"
   ]
  },
  {
   "cell_type": "code",
   "execution_count": null,
   "metadata": {},
   "outputs": [],
   "source": [
    "for col in colums_to_expand_avg:\n",
    "    expand_col_name = f'expand_{col}'\n",
    "    cumulative_sum = weekly_agg.sort_values(by='week').groupby(['season', 'team'])[col].cumsum()\n",
    "    cumulative_count = weekly_agg.sort_values(by='week').groupby(['season', 'team'])[col].cumcount() + 1\n",
    "    weekly_agg[expand_col_name] = cumulative_sum / cumulative_count"
   ]
  },
  {
   "cell_type": "code",
   "execution_count": null,
   "metadata": {},
   "outputs": [],
   "source": [
    "#Lets confirm this worked"
   ]
  },
  {
   "cell_type": "code",
   "execution_count": null,
   "metadata": {
    "scrolled": true
   },
   "outputs": [],
   "source": [
    "weekly_agg[['season', 'week', 'team','pacr', 'expand_pacr']].iloc[:25, :]"
   ]
  },
  {
   "cell_type": "code",
   "execution_count": null,
   "metadata": {},
   "outputs": [],
   "source": [
    "#Now we'll get the ranking for these \"expanded\" columns"
   ]
  },
  {
   "cell_type": "code",
   "execution_count": null,
   "metadata": {},
   "outputs": [],
   "source": [
    "for col in weekly_agg.columns:\n",
    "    if 'expand_' in col:\n",
    "        rank_col_name = f'rank_{col}_weekly'\n",
    "        weekly_agg[rank_col_name] = weekly_agg.groupby(['season', 'week'])[col].rank(ascending=False)"
   ]
  },
  {
   "cell_type": "code",
   "execution_count": null,
   "metadata": {},
   "outputs": [],
   "source": [
    "#Now we have to shift our data down a row\n",
    "#When we leverage the data, we won't have the current week's information\n",
    "#We'll only have the avg as of the prior week\n",
    "#So we need the avgs, totals, values, etc to reflect what has occured up to that point"
   ]
  },
  {
   "cell_type": "code",
   "execution_count": null,
   "metadata": {
    "scrolled": true
   },
   "outputs": [],
   "source": [
    "weekly_agg.head()"
   ]
  },
  {
   "cell_type": "code",
   "execution_count": null,
   "metadata": {},
   "outputs": [],
   "source": [
    "columns_to_shift = [i for i in weekly_agg.columns if i not in ['season', 'week', 'team']]"
   ]
  },
  {
   "cell_type": "code",
   "execution_count": null,
   "metadata": {},
   "outputs": [],
   "source": [
    "for i in columns_to_shift:\n",
    "    weekly_agg[i+'_shifted'] = weekly_agg.groupby(['season', 'team'])[i].shift(periods=1)"
   ]
  },
  {
   "cell_type": "code",
   "execution_count": null,
   "metadata": {},
   "outputs": [],
   "source": [
    "#Check the shift worked"
   ]
  },
  {
   "cell_type": "code",
   "execution_count": null,
   "metadata": {},
   "outputs": [],
   "source": [
    "weekly_agg[['season', 'week', 'team', \n",
    "            'completions', 'completions_shifted','rank_completions_weekly', 'rank_completions_weekly_shifted',\n",
    "            'completions_rolling', 'completions_rolling_shifted']].head(20)"
   ]
  },
  {
   "cell_type": "code",
   "execution_count": null,
   "metadata": {},
   "outputs": [],
   "source": [
    "#This is working as expected\n",
    "#We're keeping the shifted columns since that's what we need for the model"
   ]
  },
  {
   "cell_type": "code",
   "execution_count": null,
   "metadata": {},
   "outputs": [],
   "source": [
    "weekly_agg = weekly_agg[[i for i in weekly_agg.columns if '_shifted' in i or i in ['season', 'week', 'team'] ]]"
   ]
  },
  {
   "cell_type": "code",
   "execution_count": null,
   "metadata": {
    "scrolled": true
   },
   "outputs": [],
   "source": [
    "weekly_agg.head()"
   ]
  },
  {
   "cell_type": "markdown",
   "metadata": {},
   "source": [
    "# Passing Data"
   ]
  },
  {
   "cell_type": "code",
   "execution_count": null,
   "metadata": {},
   "outputs": [],
   "source": [
    "weekly_pfr = nfl.import_weekly_pfr('pass',years)"
   ]
  },
  {
   "cell_type": "code",
   "execution_count": null,
   "metadata": {},
   "outputs": [],
   "source": [
    "weekly_pfr = weekly_pfr[weekly_pfr['game_type'] == 'REG'].reset_index(drop=True)"
   ]
  },
  {
   "cell_type": "code",
   "execution_count": null,
   "metadata": {
    "scrolled": true
   },
   "outputs": [],
   "source": [
    "weekly_pfr.head()"
   ]
  },
  {
   "cell_type": "code",
   "execution_count": null,
   "metadata": {},
   "outputs": [],
   "source": [
    "weekly_pfr.columns"
   ]
  },
  {
   "cell_type": "code",
   "execution_count": null,
   "metadata": {},
   "outputs": [],
   "source": [
    "#Example/Definitions available here:\n",
    "#https://www.pro-football-reference.com/players/M/MahoPa00/gamelog/2022/advanced/#all_advanced_passing\n",
    "#Hover over column names to get definitions"
   ]
  },
  {
   "cell_type": "code",
   "execution_count": null,
   "metadata": {},
   "outputs": [],
   "source": [
    "#Noticed that the columns like def_times_blitzed were null, are they always null?"
   ]
  },
  {
   "cell_type": "code",
   "execution_count": null,
   "metadata": {
    "scrolled": true
   },
   "outputs": [],
   "source": [
    "weekly_pfr[~weekly_pfr['def_times_blitzed'].isna()].head()"
   ]
  },
  {
   "cell_type": "code",
   "execution_count": null,
   "metadata": {},
   "outputs": [],
   "source": [
    "weekly_pfr[~weekly_pfr['def_times_hurried'].isna()].head()"
   ]
  },
  {
   "cell_type": "code",
   "execution_count": null,
   "metadata": {},
   "outputs": [],
   "source": [
    "weekly_pfr[~weekly_pfr['def_times_hitqb'].isna()].head()"
   ]
  },
  {
   "cell_type": "code",
   "execution_count": null,
   "metadata": {},
   "outputs": [],
   "source": [
    "#Odd that these columns are all null"
   ]
  },
  {
   "cell_type": "code",
   "execution_count": null,
   "metadata": {},
   "outputs": [],
   "source": [
    "#Also noticed there's no receiving drops"
   ]
  },
  {
   "cell_type": "code",
   "execution_count": null,
   "metadata": {},
   "outputs": [],
   "source": [
    "weekly_pfr['receiving_drop'].unique()"
   ]
  },
  {
   "cell_type": "code",
   "execution_count": null,
   "metadata": {},
   "outputs": [],
   "source": [
    "weekly_pfr['receiving_drop_pct'].unique()"
   ]
  },
  {
   "cell_type": "code",
   "execution_count": null,
   "metadata": {},
   "outputs": [],
   "source": [
    "#We'll just drop them"
   ]
  },
  {
   "cell_type": "code",
   "execution_count": null,
   "metadata": {},
   "outputs": [],
   "source": [
    "weekly_pfr = weekly_pfr.drop(['def_times_hurried', \n",
    "                              'def_times_hitqb', \n",
    "                             'def_times_blitzed',\n",
    "                              'receiving_drop',\n",
    "                             'receiving_drop_pct'], axis=1)"
   ]
  },
  {
   "cell_type": "code",
   "execution_count": null,
   "metadata": {},
   "outputs": [],
   "source": [
    "#Changing raiders to LV b/c of their move"
   ]
  },
  {
   "cell_type": "code",
   "execution_count": null,
   "metadata": {},
   "outputs": [],
   "source": [
    "weekly_pfr.loc[weekly_pfr['team'] == 'OAK', 'team'] = 'LV'\n",
    "weekly_pfr.loc[weekly_pfr['opponent'] == 'OAK', 'opponent'] = 'LV'"
   ]
  },
  {
   "cell_type": "code",
   "execution_count": null,
   "metadata": {},
   "outputs": [],
   "source": [
    "#Lets aggregate across week and season"
   ]
  },
  {
   "cell_type": "code",
   "execution_count": null,
   "metadata": {},
   "outputs": [],
   "source": [
    "pfr_agg = weekly_pfr.groupby(['season', 'week', 'team']).agg({'passing_drops':'sum',\n",
    "                                                              'passing_drop_pct':'mean', \n",
    "                                                              'passing_bad_throws':'sum', \n",
    "                                                              'passing_bad_throw_pct':'mean',\n",
    "                                                              'times_sacked':'sum',\n",
    "                                                              'times_blitzed':'sum', \n",
    "                                                              'times_hurried':'sum',\n",
    "                                                              'times_hit':'sum',\n",
    "                                                              'times_pressured':'sum',\n",
    "                                                              'times_pressured_pct':'mean'}).reset_index()"
   ]
  },
  {
   "cell_type": "code",
   "execution_count": null,
   "metadata": {
    "scrolled": true
   },
   "outputs": [],
   "source": [
    "pfr_agg.head()"
   ]
  },
  {
   "cell_type": "code",
   "execution_count": null,
   "metadata": {},
   "outputs": [],
   "source": [
    "#Like before, let's group by opponent to get \"allowed\" columns\n",
    "#We'll use this as defensive stats"
   ]
  },
  {
   "cell_type": "code",
   "execution_count": null,
   "metadata": {},
   "outputs": [],
   "source": [
    "pfr_agg_def = weekly_pfr.groupby(['season', 'week', 'opponent']).agg({'passing_drops':'sum',\n",
    "                                                              'passing_drop_pct':'mean', \n",
    "                                                              'passing_bad_throws':'sum', \n",
    "                                                              'passing_bad_throw_pct':'mean',\n",
    "                                                              'times_sacked':'sum',\n",
    "                                                              'times_blitzed':'sum', \n",
    "                                                              'times_hurried':'sum',\n",
    "                                                              'times_hit':'sum',\n",
    "                                                              'times_pressured':'sum',\n",
    "                                                              'times_pressured_pct':'mean'}).reset_index()"
   ]
  },
  {
   "cell_type": "code",
   "execution_count": null,
   "metadata": {
    "scrolled": true
   },
   "outputs": [],
   "source": [
    "pfr_agg_def.head()"
   ]
  },
  {
   "cell_type": "code",
   "execution_count": null,
   "metadata": {},
   "outputs": [],
   "source": [
    "pfr_agg_def.columns = [i+'_allowed' if i not in ['season', 'team', 'week'] else i for i in pfr_agg.columns ]"
   ]
  },
  {
   "cell_type": "code",
   "execution_count": null,
   "metadata": {},
   "outputs": [],
   "source": [
    "#Lets join our offensive and defensive stats"
   ]
  },
  {
   "cell_type": "code",
   "execution_count": null,
   "metadata": {},
   "outputs": [],
   "source": [
    "pfr_agg = pfr_agg.sort_values(by=['season','team','week']).reset_index(drop=True)\n",
    "pfr_agg_def = pfr_agg_def.sort_values(by=['season','team','week']).reset_index(drop=True)"
   ]
  },
  {
   "cell_type": "code",
   "execution_count": null,
   "metadata": {},
   "outputs": [],
   "source": [
    "len(pfr_agg)"
   ]
  },
  {
   "cell_type": "code",
   "execution_count": null,
   "metadata": {
    "scrolled": true
   },
   "outputs": [],
   "source": [
    "len(pfr_agg) == len(pfr_agg_def)"
   ]
  },
  {
   "cell_type": "code",
   "execution_count": null,
   "metadata": {},
   "outputs": [],
   "source": [
    "pfr_agg = pfr_agg.merge(pfr_agg_def, on=['season','team','week'])"
   ]
  },
  {
   "cell_type": "code",
   "execution_count": null,
   "metadata": {},
   "outputs": [],
   "source": [
    "pfr_agg.head()"
   ]
  },
  {
   "cell_type": "code",
   "execution_count": null,
   "metadata": {},
   "outputs": [],
   "source": [
    "#Now lets get rolling columns"
   ]
  },
  {
   "cell_type": "code",
   "execution_count": null,
   "metadata": {},
   "outputs": [],
   "source": [
    "pfr_agg = pfr_agg.sort_values(by=['season','team','week']).reset_index(drop=True)"
   ]
  },
  {
   "cell_type": "code",
   "execution_count": null,
   "metadata": {},
   "outputs": [],
   "source": [
    "original_week = pfr_agg['week'].copy()"
   ]
  },
  {
   "cell_type": "code",
   "execution_count": null,
   "metadata": {},
   "outputs": [],
   "source": [
    "pfr_agg_rolling = pfr_agg.groupby(['season', 'team'])[['passing_drops', 'passing_drop_pct',\n",
    "                                                       'passing_bad_throws',\n",
    "                                                       'passing_bad_throw_pct', \n",
    "                                                       'times_sacked', \n",
    "                                                       'times_blitzed',\n",
    "       'times_hurried', 'times_hit', 'times_pressured', 'times_pressured_pct']].rolling(3).mean().reset_index()"
   ]
  },
  {
   "cell_type": "code",
   "execution_count": null,
   "metadata": {},
   "outputs": [],
   "source": [
    "pfr_agg_rolling = pfr_agg_rolling.drop('level_2', axis=1)"
   ]
  },
  {
   "cell_type": "code",
   "execution_count": null,
   "metadata": {},
   "outputs": [],
   "source": [
    "pfr_agg_rolling['week'] = original_week"
   ]
  },
  {
   "cell_type": "code",
   "execution_count": null,
   "metadata": {
    "scrolled": false
   },
   "outputs": [],
   "source": [
    "pfr_agg_rolling.head()"
   ]
  },
  {
   "cell_type": "code",
   "execution_count": null,
   "metadata": {},
   "outputs": [],
   "source": [
    "pfr_agg_rolling.columns = [i+'_rolling' if i not in ['season', 'week', 'team', 'opponent'] \\\n",
    "                              else i for i in pfr_agg_rolling.columns]"
   ]
  },
  {
   "cell_type": "code",
   "execution_count": null,
   "metadata": {},
   "outputs": [],
   "source": [
    "pfr_agg_rolling.columns"
   ]
  },
  {
   "cell_type": "code",
   "execution_count": null,
   "metadata": {},
   "outputs": [],
   "source": [
    "#Joining rolling to regular table"
   ]
  },
  {
   "cell_type": "code",
   "execution_count": null,
   "metadata": {},
   "outputs": [],
   "source": [
    "len(pfr_agg) == len(pfr_agg_rolling)"
   ]
  },
  {
   "cell_type": "code",
   "execution_count": null,
   "metadata": {},
   "outputs": [],
   "source": [
    "pfr_agg = pfr_agg.merge(pfr_agg_rolling, on=['season', 'team', 'week'])"
   ]
  },
  {
   "cell_type": "code",
   "execution_count": null,
   "metadata": {
    "scrolled": true
   },
   "outputs": [],
   "source": [
    "len(pfr_agg) == len(pfr_agg_rolling)"
   ]
  },
  {
   "cell_type": "code",
   "execution_count": null,
   "metadata": {},
   "outputs": [],
   "source": [
    "pfr_agg.columns"
   ]
  },
  {
   "cell_type": "code",
   "execution_count": null,
   "metadata": {},
   "outputs": [],
   "source": [
    "#Lets get the ranks for each week for these metrics"
   ]
  },
  {
   "cell_type": "code",
   "execution_count": null,
   "metadata": {},
   "outputs": [],
   "source": [
    "columns_to_rank = [i for i in pfr_agg.columns if i not in ['season', 'week', 'team']]"
   ]
  },
  {
   "cell_type": "code",
   "execution_count": null,
   "metadata": {},
   "outputs": [],
   "source": [
    "for col in columns_to_rank:\n",
    "    rank_col_name = f'rank_{col}_weekly'\n",
    "    pfr_agg[rank_col_name] = pfr_agg.groupby(['season', 'week'])[col].rank(ascending=False)"
   ]
  },
  {
   "cell_type": "code",
   "execution_count": null,
   "metadata": {},
   "outputs": [],
   "source": [
    "pfr_agg.head()"
   ]
  },
  {
   "cell_type": "code",
   "execution_count": null,
   "metadata": {},
   "outputs": [],
   "source": [
    "#Lets get sums/avg up to each part of the season"
   ]
  },
  {
   "cell_type": "code",
   "execution_count": null,
   "metadata": {},
   "outputs": [],
   "source": [
    "colums_to_expand_sum = ['passing_drops', \n",
    "       'passing_bad_throws', 'times_sacked',\n",
    "       'times_blitzed', 'times_hurried', \n",
    "                        'times_hit', 'times_pressured',\n",
    "        'passing_drops_allowed', \n",
    "       'passing_bad_throws_allowed', 'times_sacked_allowed',\n",
    "       'times_blitzed_allowed', 'times_hurried_allowed', \n",
    "                        'times_hit_allowed', 'times_pressured_allowed']"
   ]
  },
  {
   "cell_type": "code",
   "execution_count": null,
   "metadata": {},
   "outputs": [],
   "source": [
    "for col in colums_to_expand_sum:\n",
    "    expand_col_name = f'expand_{col}'\n",
    "    pfr_agg[expand_col_name] = pfr_agg.sort_values(by='week').groupby(['season', 'team'])[col].cumsum()"
   ]
  },
  {
   "cell_type": "code",
   "execution_count": null,
   "metadata": {
    "scrolled": true
   },
   "outputs": [],
   "source": [
    "pfr_agg.head()"
   ]
  },
  {
   "cell_type": "code",
   "execution_count": null,
   "metadata": {},
   "outputs": [],
   "source": [
    "#Lets check this is working"
   ]
  },
  {
   "cell_type": "code",
   "execution_count": null,
   "metadata": {},
   "outputs": [],
   "source": [
    "pfr_agg[['season', 'week', 'team','passing_drops', 'expand_passing_drops']].iloc[:25, :]"
   ]
  },
  {
   "cell_type": "code",
   "execution_count": null,
   "metadata": {},
   "outputs": [],
   "source": [
    "#Great, lets do this for averages"
   ]
  },
  {
   "cell_type": "code",
   "execution_count": null,
   "metadata": {},
   "outputs": [],
   "source": [
    "colums_to_expand_avg = ['passing_drop_pct','passing_bad_throw_pct','times_pressured_pct',\n",
    "                       'passing_drop_pct_allowed','passing_bad_throw_pct_allowed','times_pressured_pct_allowed']"
   ]
  },
  {
   "cell_type": "code",
   "execution_count": null,
   "metadata": {},
   "outputs": [],
   "source": [
    "for col in colums_to_expand_avg:\n",
    "    expand_col_name = f'expand_{col}'\n",
    "    cumulative_sum = pfr_agg.sort_values(by='week').groupby(['season', 'team'])[col].cumsum()\n",
    "    cumulative_count = pfr_agg.sort_values(by='week').groupby(['season', 'team'])[col].cumcount() + 1\n",
    "    pfr_agg[expand_col_name] = cumulative_sum / cumulative_count"
   ]
  },
  {
   "cell_type": "code",
   "execution_count": null,
   "metadata": {},
   "outputs": [],
   "source": [
    "#Lets confirm this worked"
   ]
  },
  {
   "cell_type": "code",
   "execution_count": null,
   "metadata": {
    "scrolled": false
   },
   "outputs": [],
   "source": [
    "pfr_agg[['season', 'week', 'team','passing_drop_pct', 'expand_passing_drop_pct']].iloc[:25, :]"
   ]
  },
  {
   "cell_type": "code",
   "execution_count": null,
   "metadata": {},
   "outputs": [],
   "source": [
    "#Now we'll get the rank of the expanding columns"
   ]
  },
  {
   "cell_type": "code",
   "execution_count": null,
   "metadata": {},
   "outputs": [],
   "source": [
    "for col in pfr_agg.columns:\n",
    "    if 'expand_' in col:\n",
    "        rank_col_name = f'rank_{col}_weekly'\n",
    "        pfr_agg[rank_col_name] = pfr_agg.groupby(['season', 'week'])[col].rank(ascending=False)"
   ]
  },
  {
   "cell_type": "code",
   "execution_count": null,
   "metadata": {},
   "outputs": [],
   "source": [
    "#Now to shift the data"
   ]
  },
  {
   "cell_type": "code",
   "execution_count": null,
   "metadata": {},
   "outputs": [],
   "source": [
    "columns_to_shift = [i for i in pfr_agg.columns if i not in ['season', 'week', 'team']]"
   ]
  },
  {
   "cell_type": "code",
   "execution_count": null,
   "metadata": {
    "scrolled": true
   },
   "outputs": [],
   "source": [
    "for i in columns_to_shift:\n",
    "    pfr_agg[i+'_shifted'] = pfr_agg.groupby(['season', 'team'])[i].shift(periods=1)"
   ]
  },
  {
   "cell_type": "code",
   "execution_count": null,
   "metadata": {},
   "outputs": [],
   "source": [
    "pfr_agg.head()"
   ]
  },
  {
   "cell_type": "code",
   "execution_count": null,
   "metadata": {},
   "outputs": [],
   "source": [
    "#Lets confirm this worked"
   ]
  },
  {
   "cell_type": "code",
   "execution_count": null,
   "metadata": {},
   "outputs": [],
   "source": [
    "pfr_agg[['season', 'team', 'week','passing_drops', 'passing_drops_shifted',\n",
    "        'passing_drops_rolling', 'passing_drops_rolling_shifted',\n",
    "        'rank_passing_drops_weekly', 'rank_passing_drops_weekly_shifted']].iloc[:25, :]"
   ]
  },
  {
   "cell_type": "code",
   "execution_count": null,
   "metadata": {},
   "outputs": [],
   "source": [
    "#Keep the shifted columns"
   ]
  },
  {
   "cell_type": "code",
   "execution_count": null,
   "metadata": {},
   "outputs": [],
   "source": [
    "pfr_agg = pfr_agg[[i for i in pfr_agg.columns if '_shifted' in i or i in ['season', 'week', 'team'] ]]"
   ]
  },
  {
   "cell_type": "code",
   "execution_count": null,
   "metadata": {},
   "outputs": [],
   "source": [
    "#Now let's join to weekly agg"
   ]
  },
  {
   "cell_type": "code",
   "execution_count": null,
   "metadata": {},
   "outputs": [],
   "source": [
    "len(weekly_agg)"
   ]
  },
  {
   "cell_type": "code",
   "execution_count": null,
   "metadata": {
    "scrolled": false
   },
   "outputs": [],
   "source": [
    "len(weekly_agg) == len(pfr_agg)"
   ]
  },
  {
   "cell_type": "code",
   "execution_count": null,
   "metadata": {},
   "outputs": [],
   "source": [
    "weekly_agg = weekly_agg.merge(pfr_agg, on=['season', 'team', 'week'])"
   ]
  },
  {
   "cell_type": "code",
   "execution_count": null,
   "metadata": {},
   "outputs": [],
   "source": [
    "len(weekly_agg)"
   ]
  },
  {
   "cell_type": "code",
   "execution_count": null,
   "metadata": {
    "scrolled": false
   },
   "outputs": [],
   "source": [
    "weekly_agg.head()"
   ]
  },
  {
   "cell_type": "markdown",
   "metadata": {},
   "source": [
    "# Rush data"
   ]
  },
  {
   "cell_type": "code",
   "execution_count": null,
   "metadata": {
    "scrolled": true
   },
   "outputs": [],
   "source": [
    "weekly_pfr_rush = nfl.import_weekly_pfr('rush',years)"
   ]
  },
  {
   "cell_type": "code",
   "execution_count": null,
   "metadata": {},
   "outputs": [],
   "source": [
    "weekly_pfr_rush = weekly_pfr_rush[weekly_pfr_rush['game_type'] == 'REG'].reset_index(drop=True)"
   ]
  },
  {
   "cell_type": "code",
   "execution_count": null,
   "metadata": {
    "scrolled": true
   },
   "outputs": [],
   "source": [
    "weekly_pfr_rush.head()"
   ]
  },
  {
   "cell_type": "code",
   "execution_count": null,
   "metadata": {},
   "outputs": [],
   "source": [
    "#I see null for receiving_broken_tackles, is this the case for all teams?"
   ]
  },
  {
   "cell_type": "code",
   "execution_count": null,
   "metadata": {},
   "outputs": [],
   "source": [
    "weekly_pfr_rush[~weekly_pfr_rush['receiving_broken_tackles'].isna()].head()"
   ]
  },
  {
   "cell_type": "code",
   "execution_count": null,
   "metadata": {},
   "outputs": [],
   "source": [
    "#We don't need that column"
   ]
  },
  {
   "cell_type": "code",
   "execution_count": null,
   "metadata": {},
   "outputs": [],
   "source": [
    "weekly_pfr_rush =  weekly_pfr_rush.drop('receiving_broken_tackles', axis=1)"
   ]
  },
  {
   "cell_type": "code",
   "execution_count": null,
   "metadata": {
    "scrolled": true
   },
   "outputs": [],
   "source": [
    "weekly_pfr_rush.head()"
   ]
  },
  {
   "cell_type": "code",
   "execution_count": null,
   "metadata": {},
   "outputs": [],
   "source": [
    "weekly_pfr_rush.loc[weekly_pfr_rush['team'] == 'OAK', 'team'] = 'LV'\n",
    "weekly_pfr_rush.loc[weekly_pfr_rush['opponent'] == 'OAK', 'opponent'] = 'LV'"
   ]
  },
  {
   "cell_type": "code",
   "execution_count": null,
   "metadata": {},
   "outputs": [],
   "source": [
    "#Lets get our aggreate values for rushing\n",
    "#The avg columns we can calculate once aggregated"
   ]
  },
  {
   "cell_type": "code",
   "execution_count": null,
   "metadata": {},
   "outputs": [],
   "source": [
    "weekly_pfr_rush.columns"
   ]
  },
  {
   "cell_type": "code",
   "execution_count": null,
   "metadata": {},
   "outputs": [],
   "source": [
    "pfr_agg_rush = weekly_pfr_rush.groupby(['season', 'week', 'team'])[['carries',\n",
    "                                                                   'rushing_yards_before_contact',\n",
    "                                                                   'rushing_yards_after_contact',\n",
    "                                                                   'rushing_broken_tackles']].sum().reset_index()"
   ]
  },
  {
   "cell_type": "code",
   "execution_count": null,
   "metadata": {},
   "outputs": [],
   "source": [
    "pfr_agg_rush.head()"
   ]
  },
  {
   "cell_type": "code",
   "execution_count": null,
   "metadata": {},
   "outputs": [],
   "source": [
    "#I checked PFR to confirm that rushing_yards_before_contact + rushing_yards_after_contact = total rush yards"
   ]
  },
  {
   "cell_type": "code",
   "execution_count": null,
   "metadata": {},
   "outputs": [],
   "source": [
    "#Lets get the avg yards before and after contact"
   ]
  },
  {
   "cell_type": "code",
   "execution_count": null,
   "metadata": {},
   "outputs": [],
   "source": [
    "#Let's get \"allowed columns\""
   ]
  },
  {
   "cell_type": "code",
   "execution_count": null,
   "metadata": {},
   "outputs": [],
   "source": [
    "pfr_agg_rush_def = weekly_pfr_rush.groupby(['season', 'week', 'opponent'])[['carries',\n",
    "                                                                   'rushing_yards_before_contact',\n",
    "                                                                   'rushing_yards_after_contact',\n",
    "                                                                   'rushing_broken_tackles']].sum().reset_index()"
   ]
  },
  {
   "cell_type": "code",
   "execution_count": null,
   "metadata": {},
   "outputs": [],
   "source": [
    "#Let's change the column names"
   ]
  },
  {
   "cell_type": "code",
   "execution_count": null,
   "metadata": {},
   "outputs": [],
   "source": [
    "pfr_agg_rush.columns"
   ]
  },
  {
   "cell_type": "code",
   "execution_count": null,
   "metadata": {},
   "outputs": [],
   "source": [
    "pfr_agg_rush_def.columns = [i+'_allowed' if i not in ['season', 'team','week', 'opponent'] \\\n",
    "                            else i for i in pfr_agg_rush.columns]"
   ]
  },
  {
   "cell_type": "code",
   "execution_count": null,
   "metadata": {
    "scrolled": true
   },
   "outputs": [],
   "source": [
    "pfr_agg_rush_def.head()"
   ]
  },
  {
   "cell_type": "code",
   "execution_count": null,
   "metadata": {},
   "outputs": [],
   "source": [
    "#Lets join the rushing data with the rushing allowed data"
   ]
  },
  {
   "cell_type": "code",
   "execution_count": null,
   "metadata": {},
   "outputs": [],
   "source": [
    "pfr_agg_rush = pfr_agg_rush.sort_values(by=['season','team','week']).reset_index(drop=True)\n",
    "pfr_agg_rush_def = pfr_agg_rush_def.sort_values(by=['season','team','week']).reset_index(drop=True)"
   ]
  },
  {
   "cell_type": "code",
   "execution_count": null,
   "metadata": {},
   "outputs": [],
   "source": [
    "len(pfr_agg_rush)"
   ]
  },
  {
   "cell_type": "code",
   "execution_count": null,
   "metadata": {},
   "outputs": [],
   "source": [
    "len(pfr_agg_rush) == len(pfr_agg_rush_def)"
   ]
  },
  {
   "cell_type": "code",
   "execution_count": null,
   "metadata": {},
   "outputs": [],
   "source": [
    "pfr_agg_rush = pfr_agg_rush.merge(pfr_agg_rush_def, on=['season', 'week', 'team'])"
   ]
  },
  {
   "cell_type": "code",
   "execution_count": null,
   "metadata": {},
   "outputs": [],
   "source": [
    "#Lets get the avg yards before and after contact"
   ]
  },
  {
   "cell_type": "code",
   "execution_count": null,
   "metadata": {},
   "outputs": [],
   "source": [
    "pfr_agg_rush['rushing_yards_before_contact_avg'] = pfr_agg_rush['rushing_yards_before_contact'] / pfr_agg_rush['carries']"
   ]
  },
  {
   "cell_type": "code",
   "execution_count": null,
   "metadata": {},
   "outputs": [],
   "source": [
    "pfr_agg_rush['rushing_yards_after_contact_avg'] = pfr_agg_rush['rushing_yards_after_contact'] / pfr_agg_rush['carries']"
   ]
  },
  {
   "cell_type": "code",
   "execution_count": null,
   "metadata": {},
   "outputs": [],
   "source": [
    "pfr_agg_rush['rushing_yards_before_contact_avg_allowed'] = pfr_agg_rush['rushing_yards_before_contact_allowed'] / pfr_agg_rush['carries_allowed']"
   ]
  },
  {
   "cell_type": "code",
   "execution_count": null,
   "metadata": {},
   "outputs": [],
   "source": [
    "pfr_agg_rush['rushing_yards_after_contact_avg_allowed'] = pfr_agg_rush['rushing_yards_after_contact_allowed'] / pfr_agg_rush['carries_allowed']"
   ]
  },
  {
   "cell_type": "code",
   "execution_count": null,
   "metadata": {
    "scrolled": false
   },
   "outputs": [],
   "source": [
    "pfr_agg_rush.head()"
   ]
  },
  {
   "cell_type": "code",
   "execution_count": null,
   "metadata": {},
   "outputs": [],
   "source": [
    "#Let's get our rolling averages"
   ]
  },
  {
   "cell_type": "code",
   "execution_count": null,
   "metadata": {},
   "outputs": [],
   "source": [
    "original_week = pfr_agg_rush['week'].copy()"
   ]
  },
  {
   "cell_type": "code",
   "execution_count": null,
   "metadata": {},
   "outputs": [],
   "source": [
    "columns_to_roll = [i for i in pfr_agg_rush.columns if i not in ['season', 'week', 'team']]"
   ]
  },
  {
   "cell_type": "code",
   "execution_count": null,
   "metadata": {
    "scrolled": false
   },
   "outputs": [],
   "source": [
    "columns_to_roll"
   ]
  },
  {
   "cell_type": "code",
   "execution_count": null,
   "metadata": {},
   "outputs": [],
   "source": [
    "pfr_rush_rolling = pfr_agg_rush.groupby(['season', 'team'])[columns_to_roll].rolling(3).mean().reset_index()"
   ]
  },
  {
   "cell_type": "code",
   "execution_count": null,
   "metadata": {},
   "outputs": [],
   "source": [
    "pfr_rush_rolling = pfr_rush_rolling.drop('level_2', axis=1)"
   ]
  },
  {
   "cell_type": "code",
   "execution_count": null,
   "metadata": {},
   "outputs": [],
   "source": [
    "pfr_rush_rolling['week'] = original_week"
   ]
  },
  {
   "cell_type": "code",
   "execution_count": null,
   "metadata": {
    "scrolled": true
   },
   "outputs": [],
   "source": [
    "pfr_rush_rolling.head()"
   ]
  },
  {
   "cell_type": "code",
   "execution_count": null,
   "metadata": {},
   "outputs": [],
   "source": [
    "#Lets confirm this works"
   ]
  },
  {
   "cell_type": "code",
   "execution_count": null,
   "metadata": {
    "scrolled": true
   },
   "outputs": [],
   "source": [
    "pfr_rush_rolling.iloc[:25, :]"
   ]
  },
  {
   "cell_type": "code",
   "execution_count": null,
   "metadata": {},
   "outputs": [],
   "source": [
    "pfr_rush_rolling.columns = [i+'_rolling' if i not in ['season', 'team', 'week']\\\n",
    "                            else i for i in pfr_rush_rolling.columns]"
   ]
  },
  {
   "cell_type": "code",
   "execution_count": null,
   "metadata": {},
   "outputs": [],
   "source": [
    "pfr_rush_rolling.head()"
   ]
  },
  {
   "cell_type": "code",
   "execution_count": null,
   "metadata": {},
   "outputs": [],
   "source": [
    "#Lets join rolling values to our rush dataset"
   ]
  },
  {
   "cell_type": "code",
   "execution_count": null,
   "metadata": {},
   "outputs": [],
   "source": [
    "len(pfr_agg_rush)"
   ]
  },
  {
   "cell_type": "code",
   "execution_count": null,
   "metadata": {},
   "outputs": [],
   "source": [
    "len(pfr_agg_rush) == len(pfr_rush_rolling)"
   ]
  },
  {
   "cell_type": "code",
   "execution_count": null,
   "metadata": {},
   "outputs": [],
   "source": [
    "pfr_agg_rush = pfr_agg_rush.merge(pfr_rush_rolling, on=['season', 'week', 'team'])"
   ]
  },
  {
   "cell_type": "code",
   "execution_count": null,
   "metadata": {},
   "outputs": [],
   "source": [
    "len(pfr_agg_rush)"
   ]
  },
  {
   "cell_type": "code",
   "execution_count": null,
   "metadata": {},
   "outputs": [],
   "source": [
    "#Lets rank these columns"
   ]
  },
  {
   "cell_type": "code",
   "execution_count": null,
   "metadata": {},
   "outputs": [],
   "source": [
    "columns_to_rank = [i for i in pfr_agg_rush.columns if i not in ['season', 'week', 'team']]"
   ]
  },
  {
   "cell_type": "code",
   "execution_count": null,
   "metadata": {},
   "outputs": [],
   "source": [
    "for col in columns_to_rank:\n",
    "    rank_col_name = f'rank_{col}_weekly'\n",
    "    pfr_agg_rush[rank_col_name] = pfr_agg_rush.groupby(['season', 'week'])[col].rank(ascending=False)"
   ]
  },
  {
   "cell_type": "code",
   "execution_count": null,
   "metadata": {},
   "outputs": [],
   "source": [
    "pfr_agg_rush.head()"
   ]
  },
  {
   "cell_type": "code",
   "execution_count": null,
   "metadata": {},
   "outputs": [],
   "source": [
    "#Lets get sums/avg up to each part of the season"
   ]
  },
  {
   "cell_type": "code",
   "execution_count": null,
   "metadata": {},
   "outputs": [],
   "source": [
    "colums_to_expand_sum = ['carries',\n",
    " 'rushing_yards_before_contact',\n",
    " 'rushing_yards_after_contact',\n",
    " 'rushing_broken_tackles',\n",
    " 'carries_allowed',\n",
    " 'rushing_yards_before_contact_allowed',\n",
    " 'rushing_yards_after_contact_allowed',\n",
    " 'rushing_broken_tackles_allowed']"
   ]
  },
  {
   "cell_type": "code",
   "execution_count": null,
   "metadata": {},
   "outputs": [],
   "source": [
    "for col in colums_to_expand_sum:\n",
    "    expand_col_name = f'expand_{col}'\n",
    "    pfr_agg_rush[expand_col_name] = pfr_agg_rush.sort_values(by='week').groupby(['season', 'team'])[col].cumsum()"
   ]
  },
  {
   "cell_type": "code",
   "execution_count": null,
   "metadata": {
    "scrolled": true
   },
   "outputs": [],
   "source": [
    "pfr_agg_rush.head()"
   ]
  },
  {
   "cell_type": "code",
   "execution_count": null,
   "metadata": {},
   "outputs": [],
   "source": [
    "#Lets check this is working"
   ]
  },
  {
   "cell_type": "code",
   "execution_count": null,
   "metadata": {},
   "outputs": [],
   "source": [
    "pfr_agg_rush[['season', 'week', 'team',\n",
    "              'carries', 'expand_carries', \n",
    "              'carries_allowed','expand_carries_allowed']].iloc[:25, :]"
   ]
  },
  {
   "cell_type": "code",
   "execution_count": null,
   "metadata": {},
   "outputs": [],
   "source": [
    "#Great, lets do this for averages"
   ]
  },
  {
   "cell_type": "code",
   "execution_count": null,
   "metadata": {},
   "outputs": [],
   "source": [
    "colums_to_expand_avg = ['rushing_yards_before_contact_avg',\n",
    " 'rushing_yards_before_contact_avg_allowed',\n",
    " 'rushing_yards_after_contact_avg_allowed',\n",
    " 'rushing_yards_after_contact_avg']"
   ]
  },
  {
   "cell_type": "code",
   "execution_count": null,
   "metadata": {},
   "outputs": [],
   "source": [
    "for col in colums_to_expand_avg:\n",
    "    expand_col_name = f'expand_{col}'\n",
    "    cumulative_sum = pfr_agg_rush.sort_values(by='week').groupby(['season', 'team'])[col].cumsum()\n",
    "    cumulative_count = pfr_agg_rush.sort_values(by='week').groupby(['season', 'team'])[col].cumcount() + 1\n",
    "    pfr_agg_rush[expand_col_name] = cumulative_sum / cumulative_count"
   ]
  },
  {
   "cell_type": "code",
   "execution_count": null,
   "metadata": {},
   "outputs": [],
   "source": [
    "#Lets confirm this worked"
   ]
  },
  {
   "cell_type": "code",
   "execution_count": null,
   "metadata": {
    "scrolled": false
   },
   "outputs": [],
   "source": [
    "pfr_agg_rush[['season', 'week', 'team','rushing_yards_before_contact_avg',\n",
    "              'expand_rushing_yards_before_contact_avg']].iloc[:25, :]"
   ]
  },
  {
   "cell_type": "code",
   "execution_count": null,
   "metadata": {},
   "outputs": [],
   "source": [
    "#Now we'll get the rank of the expanding columns"
   ]
  },
  {
   "cell_type": "code",
   "execution_count": null,
   "metadata": {},
   "outputs": [],
   "source": [
    "for col in pfr_agg_rush.columns:\n",
    "    if 'expand_' in col:\n",
    "        rank_col_name = f'rank_{col}_weekly'\n",
    "        pfr_agg_rush[rank_col_name] = pfr_agg_rush.groupby(['season', 'week'])[col].rank(ascending=False)"
   ]
  },
  {
   "cell_type": "code",
   "execution_count": null,
   "metadata": {
    "scrolled": true
   },
   "outputs": [],
   "source": [
    "pfr_agg_rush.head()"
   ]
  },
  {
   "cell_type": "code",
   "execution_count": null,
   "metadata": {},
   "outputs": [],
   "source": [
    "#Lets shift the data"
   ]
  },
  {
   "cell_type": "code",
   "execution_count": null,
   "metadata": {},
   "outputs": [],
   "source": [
    "columns_to_shift = [i for i in pfr_agg_rush.columns if i not in ['season', 'team', 'week']]"
   ]
  },
  {
   "cell_type": "code",
   "execution_count": null,
   "metadata": {},
   "outputs": [],
   "source": [
    "for i in columns_to_shift:\n",
    "    pfr_agg_rush[i+'_shifted'] = pfr_agg_rush.groupby(['season', 'team'])[i].shift(periods=1)"
   ]
  },
  {
   "cell_type": "code",
   "execution_count": null,
   "metadata": {
    "scrolled": true
   },
   "outputs": [],
   "source": [
    "#Lets test this worked"
   ]
  },
  {
   "cell_type": "code",
   "execution_count": null,
   "metadata": {},
   "outputs": [],
   "source": [
    "pfr_agg_rush[['season', 'team', 'week',\n",
    "              'carries_allowed', 'carries_allowed_shifted',\n",
    "             'carries_allowed_rolling', 'carries_allowed_rolling_shifted']].iloc[:25, :]"
   ]
  },
  {
   "cell_type": "code",
   "execution_count": null,
   "metadata": {},
   "outputs": [],
   "source": [
    "#Let's keep the shifted data"
   ]
  },
  {
   "cell_type": "code",
   "execution_count": null,
   "metadata": {},
   "outputs": [],
   "source": [
    "pfr_agg_rush = pfr_agg_rush[[i for i in pfr_agg_rush.columns if i in ['season', 'team', 'week']\n",
    "                            or '_shifted' in i]]"
   ]
  },
  {
   "cell_type": "code",
   "execution_count": null,
   "metadata": {},
   "outputs": [],
   "source": [
    "#Now let's join to weekly agg"
   ]
  },
  {
   "cell_type": "code",
   "execution_count": null,
   "metadata": {},
   "outputs": [],
   "source": [
    "len(weekly_agg)"
   ]
  },
  {
   "cell_type": "code",
   "execution_count": null,
   "metadata": {},
   "outputs": [],
   "source": [
    "len(weekly_agg) == len(pfr_agg_rush)"
   ]
  },
  {
   "cell_type": "code",
   "execution_count": null,
   "metadata": {
    "scrolled": true
   },
   "outputs": [],
   "source": [
    "len(pfr_agg_rush)"
   ]
  },
  {
   "cell_type": "code",
   "execution_count": null,
   "metadata": {},
   "outputs": [],
   "source": [
    "weekly_agg = weekly_agg.merge(pfr_agg_rush, on=['season', 'week', 'team'])"
   ]
  },
  {
   "cell_type": "code",
   "execution_count": null,
   "metadata": {},
   "outputs": [],
   "source": [
    "len(weekly_agg)"
   ]
  },
  {
   "cell_type": "code",
   "execution_count": null,
   "metadata": {},
   "outputs": [],
   "source": [
    "weekly_agg.head()"
   ]
  },
  {
   "cell_type": "markdown",
   "metadata": {},
   "source": [
    "# Injury Data"
   ]
  },
  {
   "cell_type": "code",
   "execution_count": null,
   "metadata": {},
   "outputs": [],
   "source": [
    "#Lets get injury data"
   ]
  },
  {
   "cell_type": "code",
   "execution_count": null,
   "metadata": {},
   "outputs": [],
   "source": [
    "inj = nfl.import_injuries(years)"
   ]
  },
  {
   "cell_type": "code",
   "execution_count": null,
   "metadata": {},
   "outputs": [],
   "source": [
    "inj = inj[inj['game_type'] == 'REG'].reset_index(drop=True)"
   ]
  },
  {
   "cell_type": "code",
   "execution_count": null,
   "metadata": {
    "scrolled": false
   },
   "outputs": [],
   "source": [
    "inj.head()"
   ]
  },
  {
   "cell_type": "code",
   "execution_count": null,
   "metadata": {},
   "outputs": [],
   "source": [
    "inj['team'].unique()"
   ]
  },
  {
   "cell_type": "code",
   "execution_count": null,
   "metadata": {},
   "outputs": [],
   "source": [
    "#The table lists all players on a team, even if the players aren't injured\n",
    "\n",
    "#Filter for those who are out\n",
    "#These are injuries keeping players off the field"
   ]
  },
  {
   "cell_type": "code",
   "execution_count": null,
   "metadata": {},
   "outputs": [],
   "source": [
    "inj['report_status'].unique()"
   ]
  },
  {
   "cell_type": "code",
   "execution_count": null,
   "metadata": {},
   "outputs": [],
   "source": [
    "inj = inj[inj['report_status'] == 'Out'].reset_index(drop=True)"
   ]
  },
  {
   "cell_type": "code",
   "execution_count": null,
   "metadata": {},
   "outputs": [],
   "source": [
    "#Changing raiders to LV"
   ]
  },
  {
   "cell_type": "code",
   "execution_count": null,
   "metadata": {},
   "outputs": [],
   "source": [
    "inj.loc[inj['team'] == 'OAK', 'team'] = 'LV'"
   ]
  },
  {
   "cell_type": "code",
   "execution_count": null,
   "metadata": {
    "scrolled": false
   },
   "outputs": [],
   "source": [
    "inj.head()"
   ]
  },
  {
   "cell_type": "code",
   "execution_count": null,
   "metadata": {},
   "outputs": [],
   "source": [
    "#Seaon should be an integer"
   ]
  },
  {
   "cell_type": "code",
   "execution_count": null,
   "metadata": {},
   "outputs": [],
   "source": [
    "inj['season'] = inj['season'].astype('int')"
   ]
  },
  {
   "cell_type": "code",
   "execution_count": null,
   "metadata": {},
   "outputs": [],
   "source": [
    "#Thinking for each team, each week, we get number of players injured"
   ]
  },
  {
   "cell_type": "code",
   "execution_count": null,
   "metadata": {},
   "outputs": [],
   "source": [
    "inj_agg = inj.groupby(['season', 'week', 'team'])['gsis_id'].count().reset_index()"
   ]
  },
  {
   "cell_type": "code",
   "execution_count": null,
   "metadata": {},
   "outputs": [],
   "source": [
    "inj_agg = inj_agg.rename(columns={'gsis_id':'players_injured'})"
   ]
  },
  {
   "cell_type": "code",
   "execution_count": null,
   "metadata": {
    "scrolled": true
   },
   "outputs": [],
   "source": [
    "inj_agg.head()"
   ]
  },
  {
   "cell_type": "code",
   "execution_count": null,
   "metadata": {},
   "outputs": [],
   "source": [
    "print(len(inj_agg), len(weekly_agg))"
   ]
  },
  {
   "cell_type": "code",
   "execution_count": null,
   "metadata": {},
   "outputs": [],
   "source": [
    "#These two won't equal because some teams won't have any injuries\n",
    "#When joining, need to reset the column to be 0 if null"
   ]
  },
  {
   "cell_type": "code",
   "execution_count": null,
   "metadata": {},
   "outputs": [],
   "source": [
    "weekly_agg = weekly_agg.merge(inj_agg, on=['season', 'week', 'team'], how='left')"
   ]
  },
  {
   "cell_type": "code",
   "execution_count": null,
   "metadata": {
    "scrolled": true
   },
   "outputs": [],
   "source": [
    "len(weekly_agg)"
   ]
  },
  {
   "cell_type": "code",
   "execution_count": null,
   "metadata": {},
   "outputs": [],
   "source": [
    "weekly_agg['players_injured_adj'] = weekly_agg['players_injured'].apply(lambda x: 0 if pd.isna(x) else x)"
   ]
  },
  {
   "cell_type": "code",
   "execution_count": null,
   "metadata": {},
   "outputs": [],
   "source": [
    "#Confirming the values have been adjusted so that null values show 0\n",
    "\n",
    "weekly_agg.iloc[:32, -2:]"
   ]
  },
  {
   "cell_type": "code",
   "execution_count": null,
   "metadata": {},
   "outputs": [],
   "source": [
    "#Looks good, we'll drop the inj column that has nulls"
   ]
  },
  {
   "cell_type": "code",
   "execution_count": null,
   "metadata": {},
   "outputs": [],
   "source": [
    "weekly_agg = weekly_agg.drop('players_injured', axis=1)"
   ]
  },
  {
   "cell_type": "markdown",
   "metadata": {},
   "source": [
    "# QBR Data"
   ]
  },
  {
   "cell_type": "code",
   "execution_count": null,
   "metadata": {},
   "outputs": [],
   "source": [
    "#Get QBR data"
   ]
  },
  {
   "cell_type": "code",
   "execution_count": null,
   "metadata": {
    "scrolled": true
   },
   "outputs": [],
   "source": [
    "qbr = nfl.import_qbr(years, 'nfl', 'weekly')"
   ]
  },
  {
   "cell_type": "code",
   "execution_count": null,
   "metadata": {},
   "outputs": [],
   "source": [
    "qbr = qbr[qbr['season_type'] == 'Regular'].reset_index(drop=True)"
   ]
  },
  {
   "cell_type": "code",
   "execution_count": null,
   "metadata": {
    "scrolled": false
   },
   "outputs": [],
   "source": [
    "qbr.head()"
   ]
  },
  {
   "cell_type": "code",
   "execution_count": null,
   "metadata": {},
   "outputs": [],
   "source": [
    "#Changing raiders to LV\n",
    "#Also in this table, LA rams are LAR, but in other tables they're just LA\n",
    "#Same for washington"
   ]
  },
  {
   "cell_type": "code",
   "execution_count": null,
   "metadata": {},
   "outputs": [],
   "source": [
    "qbr.loc[qbr['team_abb'] == 'OAK', 'team_abb'] = 'LV'\n",
    "qbr.loc[qbr['opp_abb'] == 'OAK', 'opp_abb'] = 'LV'\n",
    "\n",
    "qbr.loc[qbr['team_abb'] == 'LAR', 'team_abb'] = 'LA'\n",
    "qbr.loc[qbr['opp_abb'] == 'LAR', 'opp_abb'] = 'LA'\n",
    "\n",
    "qbr.loc[qbr['team_abb'] == 'WSH', 'team_abb'] = 'WAS'\n",
    "qbr.loc[qbr['opp_abb'] == 'WSH', 'opp_abb'] = 'WAS'"
   ]
  },
  {
   "cell_type": "code",
   "execution_count": null,
   "metadata": {},
   "outputs": [],
   "source": [
    "#Whats qualified??\n",
    "#Are there rows w/errors?\n",
    "qbr['qualified'].value_counts()"
   ]
  },
  {
   "cell_type": "code",
   "execution_count": null,
   "metadata": {},
   "outputs": [],
   "source": [
    "#Some teams are repeated b/c they'll play multiple QBs in a game\n",
    "#So we'll take an weighted avg of each team's metrics (QBR, epa_total, etc)"
   ]
  },
  {
   "cell_type": "code",
   "execution_count": null,
   "metadata": {},
   "outputs": [],
   "source": [
    "qbr['share_of_plays'] = qbr['qb_plays'] / qbr.groupby(['season', 'team', 'game_week'])['qb_plays'].transform('sum')"
   ]
  },
  {
   "cell_type": "code",
   "execution_count": null,
   "metadata": {},
   "outputs": [],
   "source": [
    "[i for i in qbr.iloc[:,9:19].columns]"
   ]
  },
  {
   "cell_type": "code",
   "execution_count": null,
   "metadata": {},
   "outputs": [],
   "source": [
    "for i in qbr.iloc[:,9:19].columns:\n",
    "    col_name = f'{i}_adj'\n",
    "    qbr[col_name] = qbr[i] * qbr['share_of_plays']"
   ]
  },
  {
   "cell_type": "code",
   "execution_count": null,
   "metadata": {
    "scrolled": true
   },
   "outputs": [],
   "source": [
    "qbr[(qbr['game_week'] == 17)\n",
    "   &\n",
    "   (qbr['team'] == 'Dolphins')\n",
    "   &\n",
    "   (qbr['season'] == 2022)].iloc[:, 8:]"
   ]
  },
  {
   "cell_type": "code",
   "execution_count": null,
   "metadata": {},
   "outputs": [],
   "source": [
    "#Lets see an example"
   ]
  },
  {
   "cell_type": "code",
   "execution_count": null,
   "metadata": {},
   "outputs": [],
   "source": [
    "qbr[(qbr['game_week'] == 17)\n",
    "   &\n",
    "   (qbr['team'] == 'Dolphins')\n",
    "   &\n",
    "   (qbr['season'] == 2022)].groupby(['season', 'team', 'game_week'])[['qbr_total_adj',\n",
    "                                                                    'qbr_raw_adj']].sum().reset_index()"
   ]
  },
  {
   "cell_type": "code",
   "execution_count": null,
   "metadata": {},
   "outputs": [],
   "source": [
    "#This adjustment makes sense because not all QB play is equal\n",
    "#A backup coming in during the 4th quarter when in the lead is different from a starter in the 1st quarter\n",
    "#This being said, we'll grab an adj version and a maximum of each column\n",
    "#This way we'll have the best QB performance and a weighted \"team\" qb performance"
   ]
  },
  {
   "cell_type": "code",
   "execution_count": null,
   "metadata": {},
   "outputs": [],
   "source": [
    "#We'll pull both the weighted avg and max of all the metrics"
   ]
  },
  {
   "cell_type": "code",
   "execution_count": null,
   "metadata": {},
   "outputs": [],
   "source": [
    "qbr_agg = qbr.groupby(['season', 'team_abb', 'game_week']).agg({'qbr_total':'max',\n",
    "                                                            'qbr_total_adj':'sum',\n",
    "                                                             'pts_added':'max',\n",
    "                                                             'pts_added_adj':'sum',\n",
    "                                                             'qb_plays':'max',\n",
    "                                                             'qb_plays_adj':'sum',\n",
    "                                                             'epa_total':'max',\n",
    "                                                             'epa_total_adj':'sum',\n",
    "                                                             'pass':'max',\n",
    "                                                             'pass_adj':'sum',\n",
    "                                                             'run':'max',\n",
    "                                                             'run_adj':'sum',\n",
    "                                                             'exp_sack':'max',\n",
    "                                                             'exp_sack_adj':'sum',\n",
    "                                                             'penalty':'max',\n",
    "                                                             'penalty_adj':'sum',\n",
    "                                                             'qbr_raw':'max',\n",
    "                                                             'qbr_raw_adj':'sum',\n",
    "                                                             'sack':'max',\n",
    "                                                             'sack_adj':'sum'}).reset_index()"
   ]
  },
  {
   "cell_type": "code",
   "execution_count": null,
   "metadata": {
    "scrolled": true
   },
   "outputs": [],
   "source": [
    "qbr_agg.head()"
   ]
  },
  {
   "cell_type": "code",
   "execution_count": null,
   "metadata": {},
   "outputs": [],
   "source": [
    "#Let's get QBR allowed columns now"
   ]
  },
  {
   "cell_type": "code",
   "execution_count": null,
   "metadata": {},
   "outputs": [],
   "source": [
    "qbr_agg_def = qbr.groupby(['season', 'opp_abb', 'game_week']).agg({'qbr_total':'max',\n",
    "                                                            'qbr_total_adj':'sum',\n",
    "                                                             'pts_added':'max',\n",
    "                                                             'pts_added_adj':'sum',\n",
    "                                                             'qb_plays':'max',\n",
    "                                                             'qb_plays_adj':'sum',\n",
    "                                                             'epa_total':'max',\n",
    "                                                             'epa_total_adj':'sum',\n",
    "                                                             'pass':'max',\n",
    "                                                             'pass_adj':'sum',\n",
    "                                                             'run':'max',\n",
    "                                                             'run_adj':'sum',\n",
    "                                                             'exp_sack':'max',\n",
    "                                                             'exp_sack_adj':'sum',\n",
    "                                                             'penalty':'max',\n",
    "                                                             'penalty_adj':'sum',\n",
    "                                                             'qbr_raw':'max',\n",
    "                                                             'qbr_raw_adj':'sum',\n",
    "                                                             'sack':'max',\n",
    "                                                             'sack_adj':'sum'}).reset_index()"
   ]
  },
  {
   "cell_type": "code",
   "execution_count": null,
   "metadata": {},
   "outputs": [],
   "source": [
    "qbr_agg_def.columns = [i+'_allowed' if i not in ['season', 'team_abb', 'game_week', 'opp_abb']\\\n",
    "                      else i for i in qbr_agg.columns]"
   ]
  },
  {
   "cell_type": "code",
   "execution_count": null,
   "metadata": {
    "scrolled": false
   },
   "outputs": [],
   "source": [
    "qbr_agg_def.head()"
   ]
  },
  {
   "cell_type": "code",
   "execution_count": null,
   "metadata": {},
   "outputs": [],
   "source": [
    "#Lets join the def and offensive qbr tables"
   ]
  },
  {
   "cell_type": "code",
   "execution_count": null,
   "metadata": {},
   "outputs": [],
   "source": [
    "qbr_agg = qbr_agg.sort_values(by=['season','team_abb','game_week']).reset_index(drop=True)\n",
    "qbr_agg_def = qbr_agg_def.sort_values(by=['season','team_abb','game_week']).reset_index(drop=True)"
   ]
  },
  {
   "cell_type": "code",
   "execution_count": null,
   "metadata": {},
   "outputs": [],
   "source": [
    "qbr_agg = qbr_agg_def.merge(qbr_agg, on=['season','team_abb','game_week'], how='outer')"
   ]
  },
  {
   "cell_type": "code",
   "execution_count": null,
   "metadata": {},
   "outputs": [],
   "source": [
    "#Sometimes QB play is so poor, that QBR stats aren't recorded/calculated\n",
    "#In these instances, the team didn't have QBR, and the opposing team didn't have QBR allowed\n",
    "#This means some teams aren't in the qbr table, requiring an outer join\n",
    "#In these instances, we'll add a 0 for those rows"
   ]
  },
  {
   "cell_type": "code",
   "execution_count": null,
   "metadata": {},
   "outputs": [],
   "source": [
    "qbr_agg = qbr_agg.sort_values(by=['season','team_abb','game_week']).reset_index(drop=True)"
   ]
  },
  {
   "cell_type": "code",
   "execution_count": null,
   "metadata": {
    "scrolled": true
   },
   "outputs": [],
   "source": [
    "qbr_agg.head()"
   ]
  },
  {
   "cell_type": "code",
   "execution_count": null,
   "metadata": {},
   "outputs": [],
   "source": [
    "#Viewing the rows with null QBR values\n",
    "#Again this is due to poor QB performance"
   ]
  },
  {
   "cell_type": "code",
   "execution_count": null,
   "metadata": {},
   "outputs": [],
   "source": [
    "qbr_agg[qbr_agg['run'].isna()].iloc[:5, -20:]"
   ]
  },
  {
   "cell_type": "code",
   "execution_count": null,
   "metadata": {},
   "outputs": [],
   "source": [
    "#QBR scales from 0 to 100\n",
    "#To me, if your play was so bad a QBR couldn't be calculated, I'm giving you a 0\n",
    "#This also means you added no expected points, so your epa should also be a 0\n",
    "#Same logic for the other columns"
   ]
  },
  {
   "cell_type": "code",
   "execution_count": null,
   "metadata": {},
   "outputs": [],
   "source": [
    "#Lets replace the null values with 0\n",
    "\n",
    "qbr_agg = qbr_agg.fillna(0)"
   ]
  },
  {
   "cell_type": "code",
   "execution_count": null,
   "metadata": {},
   "outputs": [],
   "source": [
    "#Confirming we don't have null values in the QBR values\n",
    "\n",
    "qbr_agg[qbr_agg['run'].isna()].iloc[:5, -20:]"
   ]
  },
  {
   "cell_type": "code",
   "execution_count": null,
   "metadata": {},
   "outputs": [],
   "source": [
    "qbr_agg.head()"
   ]
  },
  {
   "cell_type": "code",
   "execution_count": null,
   "metadata": {},
   "outputs": [],
   "source": [
    "#Lets get a rolling avg of these metrics"
   ]
  },
  {
   "cell_type": "code",
   "execution_count": null,
   "metadata": {},
   "outputs": [],
   "source": [
    "original_week = qbr_agg['game_week'].copy()"
   ]
  },
  {
   "cell_type": "code",
   "execution_count": null,
   "metadata": {},
   "outputs": [],
   "source": [
    "columns_to_roll = [i for i in qbr_agg.columns if i not in ['season', 'team_abb', 'game_week']]"
   ]
  },
  {
   "cell_type": "code",
   "execution_count": null,
   "metadata": {},
   "outputs": [],
   "source": [
    "qbr_rolling = qbr_agg.groupby(['season', 'team_abb'])[columns_to_roll].rolling(3).mean().reset_index()"
   ]
  },
  {
   "cell_type": "code",
   "execution_count": null,
   "metadata": {},
   "outputs": [],
   "source": [
    "qbr_rolling = qbr_rolling.drop('level_2', axis=1)"
   ]
  },
  {
   "cell_type": "code",
   "execution_count": null,
   "metadata": {},
   "outputs": [],
   "source": [
    "qbr_rolling['game_week'] = original_week"
   ]
  },
  {
   "cell_type": "code",
   "execution_count": null,
   "metadata": {
    "scrolled": false
   },
   "outputs": [],
   "source": [
    "qbr_rolling.head()"
   ]
  },
  {
   "cell_type": "code",
   "execution_count": null,
   "metadata": {},
   "outputs": [],
   "source": [
    "len(qbr_rolling)"
   ]
  },
  {
   "cell_type": "code",
   "execution_count": null,
   "metadata": {},
   "outputs": [],
   "source": [
    "#Confirming this is working"
   ]
  },
  {
   "cell_type": "code",
   "execution_count": null,
   "metadata": {
    "scrolled": true
   },
   "outputs": [],
   "source": [
    "qbr_rolling.iloc[14:25, :]"
   ]
  },
  {
   "cell_type": "code",
   "execution_count": null,
   "metadata": {},
   "outputs": [],
   "source": [
    "#Lets add \"rolling\" to the column names"
   ]
  },
  {
   "cell_type": "code",
   "execution_count": null,
   "metadata": {},
   "outputs": [],
   "source": [
    "qbr_rolling.columns = [i+'_rolling' if i not in ['season', 'team_abb', 'game_week'] \\\n",
    "                      else i for i in qbr_rolling.columns]"
   ]
  },
  {
   "cell_type": "code",
   "execution_count": null,
   "metadata": {},
   "outputs": [],
   "source": [
    "#Lets join to qbr_agg"
   ]
  },
  {
   "cell_type": "code",
   "execution_count": null,
   "metadata": {},
   "outputs": [],
   "source": [
    "len(qbr_agg)"
   ]
  },
  {
   "cell_type": "code",
   "execution_count": null,
   "metadata": {},
   "outputs": [],
   "source": [
    "len(qbr_agg) == len(qbr_rolling)"
   ]
  },
  {
   "cell_type": "code",
   "execution_count": null,
   "metadata": {},
   "outputs": [],
   "source": [
    "qbr_agg = qbr_agg.merge(qbr_rolling, on=['season', 'game_week', 'team_abb'], how='outer')"
   ]
  },
  {
   "cell_type": "code",
   "execution_count": null,
   "metadata": {},
   "outputs": [],
   "source": [
    "qbr_agg.head()"
   ]
  },
  {
   "cell_type": "code",
   "execution_count": null,
   "metadata": {},
   "outputs": [],
   "source": [
    "len(qbr_agg)"
   ]
  },
  {
   "cell_type": "code",
   "execution_count": null,
   "metadata": {},
   "outputs": [],
   "source": [
    "#Lets get rankings of these columns"
   ]
  },
  {
   "cell_type": "code",
   "execution_count": null,
   "metadata": {},
   "outputs": [],
   "source": [
    "columns_to_rank = [i for i in qbr_agg.columns if i not in ['season', 'game_week', 'team_abb']]"
   ]
  },
  {
   "cell_type": "code",
   "execution_count": null,
   "metadata": {
    "scrolled": true
   },
   "outputs": [],
   "source": [
    "columns_to_rank"
   ]
  },
  {
   "cell_type": "code",
   "execution_count": null,
   "metadata": {},
   "outputs": [],
   "source": [
    "for col in columns_to_rank:\n",
    "    rank_col_name = f'rank_{col}_weekly'\n",
    "    qbr_agg[rank_col_name] = qbr_agg.groupby(['season', 'game_week'])[col].rank(ascending=False)"
   ]
  },
  {
   "cell_type": "code",
   "execution_count": null,
   "metadata": {},
   "outputs": [],
   "source": [
    "qbr_agg.head()"
   ]
  },
  {
   "cell_type": "code",
   "execution_count": null,
   "metadata": {},
   "outputs": [],
   "source": [
    "#Lets get season-long ranks\n",
    "#These are indices, so the columns will be expanded based on their average over the season"
   ]
  },
  {
   "cell_type": "code",
   "execution_count": null,
   "metadata": {},
   "outputs": [],
   "source": [
    "colums_to_expand_avg = ['qbr_total_allowed',\n",
    " 'qbr_total_adj_allowed',\n",
    " 'pts_added_allowed',\n",
    " 'pts_added_adj_allowed',\n",
    " 'qb_plays_allowed',\n",
    " 'qb_plays_adj_allowed',\n",
    " 'epa_total_allowed',\n",
    " 'epa_total_adj_allowed',\n",
    " 'pass_allowed',\n",
    " 'pass_adj_allowed',\n",
    " 'run_allowed',\n",
    " 'run_adj_allowed',\n",
    " 'exp_sack_allowed',\n",
    " 'exp_sack_adj_allowed',\n",
    " 'penalty_allowed',\n",
    " 'penalty_adj_allowed',\n",
    " 'qbr_raw_allowed',\n",
    " 'qbr_raw_adj_allowed',\n",
    " 'sack_allowed',\n",
    " 'sack_adj_allowed',\n",
    " 'qbr_total',\n",
    " 'qbr_total_adj',\n",
    " 'pts_added',\n",
    " 'pts_added_adj',\n",
    " 'qb_plays',\n",
    " 'qb_plays_adj',\n",
    " 'epa_total',\n",
    " 'epa_total_adj',\n",
    " 'pass',\n",
    " 'pass_adj',\n",
    " 'run',\n",
    " 'run_adj',\n",
    " 'exp_sack',\n",
    " 'exp_sack_adj',\n",
    " 'penalty',\n",
    " 'penalty_adj',\n",
    " 'qbr_raw',\n",
    " 'qbr_raw_adj',\n",
    " 'sack',\n",
    " 'sack_adj',]"
   ]
  },
  {
   "cell_type": "code",
   "execution_count": null,
   "metadata": {
    "scrolled": true
   },
   "outputs": [],
   "source": [
    "for col in colums_to_expand_avg:\n",
    "    expand_col_name = f'expand_{col}'\n",
    "    cumulative_sum = qbr_agg.sort_values(by='game_week').groupby(['season', 'team_abb'])[col].cumsum()\n",
    "    cumulative_count = qbr_agg.sort_values(by='game_week').groupby(['season', 'team_abb'])[col].cumcount() + 1\n",
    "    qbr_agg[expand_col_name] = cumulative_sum / cumulative_count"
   ]
  },
  {
   "cell_type": "code",
   "execution_count": null,
   "metadata": {},
   "outputs": [],
   "source": [
    "#Lets confirm this worked"
   ]
  },
  {
   "cell_type": "code",
   "execution_count": null,
   "metadata": {
    "scrolled": false
   },
   "outputs": [],
   "source": [
    "qbr_agg[['season', 'game_week', 'team_abb','qbr_total_allowed',\n",
    "              'expand_qbr_total_allowed']].iloc[:25, :]"
   ]
  },
  {
   "cell_type": "code",
   "execution_count": null,
   "metadata": {},
   "outputs": [],
   "source": [
    "#Now we'll get the rank of the expanding columns"
   ]
  },
  {
   "cell_type": "code",
   "execution_count": null,
   "metadata": {},
   "outputs": [],
   "source": [
    "for col in qbr_agg.columns:\n",
    "    if 'expand_' in col:\n",
    "        rank_col_name = f'rank_{col}_weekly'\n",
    "        qbr_agg[rank_col_name] = qbr_agg.groupby(['season', 'game_week'])[col].rank(ascending=False)"
   ]
  },
  {
   "cell_type": "code",
   "execution_count": null,
   "metadata": {
    "scrolled": false
   },
   "outputs": [],
   "source": [
    "qbr_agg.head()"
   ]
  },
  {
   "cell_type": "code",
   "execution_count": null,
   "metadata": {},
   "outputs": [],
   "source": [
    "#Lets shift the columns"
   ]
  },
  {
   "cell_type": "code",
   "execution_count": null,
   "metadata": {},
   "outputs": [],
   "source": [
    "columns_to_shift = [i for i in qbr_agg.columns if i not in ['season', 'game_week', 'team_abb']]"
   ]
  },
  {
   "cell_type": "code",
   "execution_count": null,
   "metadata": {},
   "outputs": [],
   "source": [
    "for i in columns_to_shift:\n",
    "    qbr_agg[i+'_shifted'] = qbr_agg.groupby(['season', 'team_abb'])[i].shift(periods=1)"
   ]
  },
  {
   "cell_type": "code",
   "execution_count": null,
   "metadata": {},
   "outputs": [],
   "source": [
    "#Lets check this worked"
   ]
  },
  {
   "cell_type": "code",
   "execution_count": null,
   "metadata": {},
   "outputs": [],
   "source": [
    "qbr_agg[['season', 'team_abb', 'game_week',\n",
    "              'run', 'run_shifted',\n",
    "             'run_rolling', 'run_rolling_shifted']].iloc[:25, :]"
   ]
  },
  {
   "cell_type": "code",
   "execution_count": null,
   "metadata": {},
   "outputs": [],
   "source": [
    "#Lets keep the shifted data"
   ]
  },
  {
   "cell_type": "code",
   "execution_count": null,
   "metadata": {},
   "outputs": [],
   "source": [
    "qbr_agg = qbr_agg[[i for i in qbr_agg.columns if i in ['season','team_abb', 'game_week']\n",
    "                  or '_shifted' in i]]"
   ]
  },
  {
   "cell_type": "code",
   "execution_count": null,
   "metadata": {},
   "outputs": [],
   "source": [
    "#Lets join to weekly_agg"
   ]
  },
  {
   "cell_type": "code",
   "execution_count": null,
   "metadata": {},
   "outputs": [],
   "source": [
    "qbr_agg = qbr_agg.rename(columns={'game_week':'week',\n",
    "                                'team_abb':'team'})"
   ]
  },
  {
   "cell_type": "code",
   "execution_count": null,
   "metadata": {
    "scrolled": true
   },
   "outputs": [],
   "source": [
    "len(weekly_agg)"
   ]
  },
  {
   "cell_type": "code",
   "execution_count": null,
   "metadata": {},
   "outputs": [],
   "source": [
    "len(weekly_agg) == len(qbr_agg)"
   ]
  },
  {
   "cell_type": "code",
   "execution_count": null,
   "metadata": {},
   "outputs": [],
   "source": [
    "weekly_agg = weekly_agg.merge(qbr_agg, on=['season', 'week', 'team'], how='left')"
   ]
  },
  {
   "cell_type": "code",
   "execution_count": null,
   "metadata": {},
   "outputs": [],
   "source": [
    "weekly_agg.head()"
   ]
  },
  {
   "cell_type": "markdown",
   "metadata": {},
   "source": [
    "# Game Info"
   ]
  },
  {
   "cell_type": "code",
   "execution_count": null,
   "metadata": {
    "scrolled": true
   },
   "outputs": [],
   "source": [
    "info = nfl.import_schedules(years)"
   ]
  },
  {
   "cell_type": "code",
   "execution_count": null,
   "metadata": {},
   "outputs": [],
   "source": [
    "info = info[info['game_type'] == 'REG'].reset_index(drop=True)"
   ]
  },
  {
   "cell_type": "code",
   "execution_count": null,
   "metadata": {
    "scrolled": false
   },
   "outputs": [],
   "source": [
    "info.head()"
   ]
  },
  {
   "cell_type": "code",
   "execution_count": null,
   "metadata": {},
   "outputs": [],
   "source": [
    "#Lets see some of the odds info"
   ]
  },
  {
   "cell_type": "code",
   "execution_count": null,
   "metadata": {
    "scrolled": false
   },
   "outputs": [],
   "source": [
    "info.iloc[:5, 24:32]"
   ]
  },
  {
   "cell_type": "code",
   "execution_count": null,
   "metadata": {},
   "outputs": [],
   "source": [
    "info[~info['away_moneyline'].isna()]['season'].min()"
   ]
  },
  {
   "cell_type": "code",
   "execution_count": null,
   "metadata": {
    "scrolled": true
   },
   "outputs": [],
   "source": [
    "#Since we've had to change team names, lets confirm what teams in weekly agg aren't in info"
   ]
  },
  {
   "cell_type": "code",
   "execution_count": null,
   "metadata": {},
   "outputs": [],
   "source": [
    "[i for i in info['away_team'].unique() if i not in weekly_agg['team'].unique()]"
   ]
  },
  {
   "cell_type": "code",
   "execution_count": null,
   "metadata": {},
   "outputs": [],
   "source": [
    "#Changing raiders info"
   ]
  },
  {
   "cell_type": "code",
   "execution_count": null,
   "metadata": {},
   "outputs": [],
   "source": [
    "info.loc[info['away_team'] == 'OAK', 'away_team'] = 'LV'\n",
    "info.loc[info['home_team'] == 'OAK', 'home_team'] = 'LV'"
   ]
  },
  {
   "cell_type": "code",
   "execution_count": null,
   "metadata": {},
   "outputs": [],
   "source": [
    "#Confirming that we have all the same teams now?"
   ]
  },
  {
   "cell_type": "code",
   "execution_count": null,
   "metadata": {},
   "outputs": [],
   "source": [
    "[i for i in info['away_team'].unique() if i not in weekly_agg['team'].unique()]"
   ]
  },
  {
   "cell_type": "code",
   "execution_count": null,
   "metadata": {
    "scrolled": false
   },
   "outputs": [],
   "source": [
    "odds = info[['season', 'week', 'away_team', 'home_team', 'away_moneyline', \n",
    "      'home_moneyline', 'spread_line', 'away_spread_odds',\n",
    "       'home_spread_odds', 'total_line', 'under_odds', 'over_odds',\n",
    "            'home_score', 'away_score']]"
   ]
  },
  {
   "cell_type": "code",
   "execution_count": null,
   "metadata": {},
   "outputs": [],
   "source": [
    "odds.head()"
   ]
  },
  {
   "cell_type": "code",
   "execution_count": null,
   "metadata": {},
   "outputs": [],
   "source": [
    "#Comapring the spread_line to the historical odds site, spread_line is the away team spread\n",
    "#So we can get home team spread by multiplying by -1 to get the inverse"
   ]
  },
  {
   "cell_type": "code",
   "execution_count": null,
   "metadata": {},
   "outputs": [],
   "source": [
    "odds = odds.rename(columns={'spread_line':'away_spread'})"
   ]
  },
  {
   "cell_type": "code",
   "execution_count": null,
   "metadata": {},
   "outputs": [],
   "source": [
    "odds['home_spread'] = odds['away_spread'] * -1"
   ]
  },
  {
   "cell_type": "code",
   "execution_count": null,
   "metadata": {
    "scrolled": true
   },
   "outputs": [],
   "source": [
    "odds.head()"
   ]
  },
  {
   "cell_type": "code",
   "execution_count": null,
   "metadata": {},
   "outputs": [],
   "source": [
    "#Now lets get the score margin and compare to the betting spread"
   ]
  },
  {
   "cell_type": "code",
   "execution_count": null,
   "metadata": {},
   "outputs": [],
   "source": [
    "odds['home_diff'] = odds['home_score'] - odds['away_score']\n",
    "odds['away_diff'] = odds['away_score'] - odds['home_score']"
   ]
  },
  {
   "cell_type": "code",
   "execution_count": null,
   "metadata": {},
   "outputs": [],
   "source": [
    "odds['home_cover'] = odds['home_spread'] + odds['home_diff']\n",
    "odds['away_cover'] = odds['away_spread'] + odds['away_diff']"
   ]
  },
  {
   "cell_type": "code",
   "execution_count": null,
   "metadata": {},
   "outputs": [],
   "source": [
    "#Lets also get the total points"
   ]
  },
  {
   "cell_type": "code",
   "execution_count": null,
   "metadata": {},
   "outputs": [],
   "source": [
    "odds['total_score'] = odds['home_score'] + odds['away_score']"
   ]
  },
  {
   "cell_type": "code",
   "execution_count": null,
   "metadata": {},
   "outputs": [],
   "source": [
    "#We can group by season, week, away team (away stats)\n",
    "#Then we can group by season, week, home team (home stats)\n",
    "\n",
    "#Then we can concat and change the column names to have a betting table"
   ]
  },
  {
   "cell_type": "code",
   "execution_count": null,
   "metadata": {},
   "outputs": [],
   "source": [
    "odds.columns"
   ]
  },
  {
   "cell_type": "code",
   "execution_count": null,
   "metadata": {},
   "outputs": [],
   "source": [
    "bet_away = odds[['season', 'week', 'away_team','away_moneyline',\n",
    "                               'away_spread',\n",
    "                               'away_spread_odds',\n",
    "                                 'total_line',\n",
    "                                 'under_odds',\n",
    "                                 'over_odds',\n",
    "                                 'away_cover',\n",
    "                                 'home_cover',\n",
    "                                  'away_score',\n",
    "                                 'away_diff',\n",
    "                                'home_score',\n",
    "                                 'home_diff',\n",
    "                                 'total_score']]"
   ]
  },
  {
   "cell_type": "code",
   "execution_count": null,
   "metadata": {},
   "outputs": [],
   "source": [
    "bet_away = bet_away.rename(columns={'away_team':'team',\n",
    "                                   'away_moneyline':'moneyline',\n",
    "                                    'away_spread':'spread',\n",
    "                                   'away_spread_odds':'spread_odds',\n",
    "                                   'total_line':'exp_total_points',\n",
    "                                   'away_cover':'cover',\n",
    "                                    'home_cover':'cover_allowed',\n",
    "                                   'away_score':'points_scored',\n",
    "                                    'away_diff':'scoring_margin',\n",
    "                                'home_score':'points_allowed',\n",
    "                                 'home_diff':'scoring_margin_allowed',\n",
    "                                   'total_score':'total_points_scored'})"
   ]
  },
  {
   "cell_type": "code",
   "execution_count": null,
   "metadata": {},
   "outputs": [],
   "source": [
    "bet_away['is_home'] = 0"
   ]
  },
  {
   "cell_type": "code",
   "execution_count": null,
   "metadata": {
    "scrolled": false
   },
   "outputs": [],
   "source": [
    "bet_away.head()"
   ]
  },
  {
   "cell_type": "code",
   "execution_count": null,
   "metadata": {},
   "outputs": [],
   "source": [
    "bet_home = odds[['season', 'week', 'home_team','home_moneyline',\n",
    "                               'home_spread',\n",
    "                               'home_spread_odds',\n",
    "                                 'total_line',\n",
    "                                 'under_odds',\n",
    "                                 'over_odds',\n",
    "                                 'home_cover',\n",
    "                                 'away_cover',\n",
    "                                  'home_score',\n",
    "                                 'home_diff',\n",
    "                                  'away_score',\n",
    "                                 'away_diff',\n",
    "                                 'total_score']]"
   ]
  },
  {
   "cell_type": "code",
   "execution_count": null,
   "metadata": {},
   "outputs": [],
   "source": [
    "bet_home = bet_home.rename(columns={'home_team':'team',\n",
    "                                   'home_moneyline':'moneyline',\n",
    "                                    'home_spread':'spread',\n",
    "                                   'home_spread_odds':'spread_odds',\n",
    "                                   'total_line':'exp_total_points',\n",
    "                                   'home_cover':'cover',\n",
    "                                    'away_cover':'cover_allowed',\n",
    "                                   'home_score':'points_scored',\n",
    "                                    'home_diff':'scoring_margin',\n",
    "                                  'away_score':'points_allowed',\n",
    "                                 'away_diff':'scoring_margin_allowed',\n",
    "                                   'total_score':'total_points_scored'})"
   ]
  },
  {
   "cell_type": "code",
   "execution_count": null,
   "metadata": {},
   "outputs": [],
   "source": [
    "bet_home['is_home'] = 1"
   ]
  },
  {
   "cell_type": "code",
   "execution_count": null,
   "metadata": {},
   "outputs": [],
   "source": [
    "bet_home.head()"
   ]
  },
  {
   "cell_type": "code",
   "execution_count": null,
   "metadata": {},
   "outputs": [],
   "source": [
    "bet = pd.concat([bet_home, bet_away])"
   ]
  },
  {
   "cell_type": "code",
   "execution_count": null,
   "metadata": {},
   "outputs": [],
   "source": [
    "bet = bet.sort_values(by=['season', 'team', 'week']).reset_index(drop=True)"
   ]
  },
  {
   "cell_type": "code",
   "execution_count": null,
   "metadata": {},
   "outputs": [],
   "source": [
    "bet.index.is_unique"
   ]
  },
  {
   "cell_type": "code",
   "execution_count": null,
   "metadata": {
    "scrolled": false
   },
   "outputs": [],
   "source": [
    "bet.head()"
   ]
  },
  {
   "cell_type": "code",
   "execution_count": null,
   "metadata": {},
   "outputs": [],
   "source": [
    "#Lets get rolling avg points scored, points allowed, scoring margin, margin allowed, spread, cover, cover allowed \n",
    "#Then we'll get these metrics up to that point in the season\n",
    "#Then of course, we rank"
   ]
  },
  {
   "cell_type": "code",
   "execution_count": null,
   "metadata": {},
   "outputs": [],
   "source": [
    "original_week = bet['week'].copy()"
   ]
  },
  {
   "cell_type": "code",
   "execution_count": null,
   "metadata": {},
   "outputs": [],
   "source": [
    "bet_rolling = bet.groupby(['season', 'team'])[['points_scored', \n",
    "                                              'points_allowed',\n",
    "                                              'scoring_margin',\n",
    "                                              'scoring_margin_allowed', \n",
    "                                              'spread',\n",
    "                                              'cover', \n",
    "                                              'cover_allowed']].rolling(3).mean().reset_index()"
   ]
  },
  {
   "cell_type": "code",
   "execution_count": null,
   "metadata": {},
   "outputs": [],
   "source": [
    "bet_rolling = bet_rolling.drop('level_2', axis=1)"
   ]
  },
  {
   "cell_type": "code",
   "execution_count": null,
   "metadata": {},
   "outputs": [],
   "source": [
    "bet_rolling['week'] = original_week"
   ]
  },
  {
   "cell_type": "code",
   "execution_count": null,
   "metadata": {},
   "outputs": [],
   "source": [
    "#Lets change the column names"
   ]
  },
  {
   "cell_type": "code",
   "execution_count": null,
   "metadata": {},
   "outputs": [],
   "source": [
    "bet_rolling.columns = [i+'_rolling' if i not in ['season', 'week', 'team'] else i for i in bet_rolling.columns]"
   ]
  },
  {
   "cell_type": "code",
   "execution_count": null,
   "metadata": {
    "scrolled": true
   },
   "outputs": [],
   "source": [
    "bet_rolling.iloc[:20]"
   ]
  },
  {
   "cell_type": "code",
   "execution_count": null,
   "metadata": {},
   "outputs": [],
   "source": [
    "#Let's join to bet"
   ]
  },
  {
   "cell_type": "code",
   "execution_count": null,
   "metadata": {},
   "outputs": [],
   "source": [
    "len(bet)"
   ]
  },
  {
   "cell_type": "code",
   "execution_count": null,
   "metadata": {},
   "outputs": [],
   "source": [
    "len(bet) == len(bet_rolling)"
   ]
  },
  {
   "cell_type": "code",
   "execution_count": null,
   "metadata": {},
   "outputs": [],
   "source": [
    "bet = bet.merge(bet_rolling, on=['season', 'team', 'week'])"
   ]
  },
  {
   "cell_type": "code",
   "execution_count": null,
   "metadata": {},
   "outputs": [],
   "source": [
    "bet.head()"
   ]
  },
  {
   "cell_type": "code",
   "execution_count": null,
   "metadata": {},
   "outputs": [],
   "source": [
    "#Lets get the metrics we rolled, but expanding across the season"
   ]
  },
  {
   "cell_type": "code",
   "execution_count": null,
   "metadata": {},
   "outputs": [],
   "source": [
    "for col in ['points_scored', \n",
    "              'points_allowed',\n",
    "              'scoring_margin',\n",
    "              'scoring_margin_allowed', \n",
    "              'spread',\n",
    "              'cover', \n",
    "              'cover_allowed']:\n",
    "    expand_col_name = f'expand_{col}'\n",
    "    bet[expand_col_name] = bet.sort_values(by='week').groupby(['season', 'team'])[col].cumsum()"
   ]
  },
  {
   "cell_type": "code",
   "execution_count": null,
   "metadata": {},
   "outputs": [],
   "source": [
    "bet.head()"
   ]
  },
  {
   "cell_type": "code",
   "execution_count": null,
   "metadata": {},
   "outputs": [],
   "source": [
    "#Now lets rank these columns"
   ]
  },
  {
   "cell_type": "code",
   "execution_count": null,
   "metadata": {},
   "outputs": [],
   "source": [
    "for col in [i for i in bet.columns if 'expand_' in i or '_rolling' in i]:\n",
    "    rank_col_name = f'rank_{col}_weekly'\n",
    "    bet[rank_col_name] = bet.groupby(['season', 'week'])[col].rank(ascending=False)"
   ]
  },
  {
   "cell_type": "code",
   "execution_count": null,
   "metadata": {},
   "outputs": [],
   "source": [
    "#Lets check this all works"
   ]
  },
  {
   "cell_type": "code",
   "execution_count": null,
   "metadata": {
    "scrolled": true
   },
   "outputs": [],
   "source": [
    "bet[bet['team'] == 'GB'][['season', 'week', 'points_scored', 'points_scored_rolling',\n",
    "                          'expand_points_scored', 'rank_expand_points_scored_weekly',\n",
    "                         'rank_points_scored_rolling_weekly']].iloc[:16]"
   ]
  },
  {
   "cell_type": "code",
   "execution_count": null,
   "metadata": {},
   "outputs": [],
   "source": [
    "#Now let's shift all this data"
   ]
  },
  {
   "cell_type": "code",
   "execution_count": null,
   "metadata": {},
   "outputs": [],
   "source": [
    "bet.columns"
   ]
  },
  {
   "cell_type": "code",
   "execution_count": null,
   "metadata": {},
   "outputs": [],
   "source": [
    "for i in ['points_scored_rolling', 'points_allowed_rolling',\n",
    "       'scoring_margin_rolling', 'scoring_margin_allowed_rolling',\n",
    "       'spread_rolling', 'cover_rolling', 'cover_allowed_rolling',\n",
    "       'expand_points_scored', 'expand_points_allowed',\n",
    "       'expand_scoring_margin', 'expand_scoring_margin_allowed',\n",
    "       'expand_spread', 'expand_cover', 'expand_cover_allowed',\n",
    "       'rank_points_scored_rolling_weekly',\n",
    "       'rank_points_allowed_rolling_weekly',\n",
    "       'rank_scoring_margin_rolling_weekly',\n",
    "       'rank_scoring_margin_allowed_rolling_weekly',\n",
    "       'rank_spread_rolling_weekly', 'rank_cover_rolling_weekly',\n",
    "       'rank_cover_allowed_rolling_weekly', 'rank_expand_points_scored_weekly',\n",
    "       'rank_expand_points_allowed_weekly',\n",
    "       'rank_expand_scoring_margin_weekly',\n",
    "       'rank_expand_scoring_margin_allowed_weekly',\n",
    "       'rank_expand_spread_weekly', 'rank_expand_cover_weekly',\n",
    "       'rank_expand_cover_allowed_weekly']:\n",
    "    bet[i+'_shifted'] = bet.groupby(['season', 'team'])[i].shift(periods=1)"
   ]
  },
  {
   "cell_type": "code",
   "execution_count": null,
   "metadata": {},
   "outputs": [],
   "source": [
    "#Lets confirm"
   ]
  },
  {
   "cell_type": "code",
   "execution_count": null,
   "metadata": {},
   "outputs": [],
   "source": [
    "bet[bet['season'] == 2018][['team', 'week', 'points_scored_rolling', 'points_allowed_rolling',\n",
    "                           'points_scored_rolling_shifted', 'points_allowed_rolling_shifted']].iloc[:16]"
   ]
  },
  {
   "cell_type": "code",
   "execution_count": null,
   "metadata": {},
   "outputs": [],
   "source": [
    "#Cool, now let's keep the shifted info"
   ]
  },
  {
   "cell_type": "code",
   "execution_count": null,
   "metadata": {},
   "outputs": [],
   "source": [
    "bet = bet.drop(['points_scored_rolling', 'points_allowed_rolling',\n",
    "       'scoring_margin_rolling', 'scoring_margin_allowed_rolling',\n",
    "       'spread_rolling', 'cover_rolling', 'cover_allowed_rolling',\n",
    "       'expand_points_scored', 'expand_points_allowed',\n",
    "       'expand_scoring_margin', 'expand_scoring_margin_allowed',\n",
    "       'expand_spread', 'expand_cover', 'expand_cover_allowed',\n",
    "       'rank_points_scored_rolling_weekly',\n",
    "       'rank_points_allowed_rolling_weekly',\n",
    "       'rank_scoring_margin_rolling_weekly',\n",
    "       'rank_scoring_margin_allowed_rolling_weekly',\n",
    "       'rank_spread_rolling_weekly', 'rank_cover_rolling_weekly',\n",
    "       'rank_cover_allowed_rolling_weekly', 'rank_expand_points_scored_weekly',\n",
    "       'rank_expand_points_allowed_weekly',\n",
    "       'rank_expand_scoring_margin_weekly',\n",
    "       'rank_expand_scoring_margin_allowed_weekly',\n",
    "       'rank_expand_spread_weekly', 'rank_expand_cover_weekly',\n",
    "       'rank_expand_cover_allowed_weekly'], axis=1)"
   ]
  },
  {
   "cell_type": "code",
   "execution_count": null,
   "metadata": {},
   "outputs": [],
   "source": [
    "bet.columns"
   ]
  },
  {
   "cell_type": "code",
   "execution_count": null,
   "metadata": {},
   "outputs": [],
   "source": [
    "#Now we have a table w betting info\n",
    "#This table also has items regarding stadium surface, division game, etc"
   ]
  },
  {
   "cell_type": "code",
   "execution_count": null,
   "metadata": {
    "scrolled": true
   },
   "outputs": [],
   "source": [
    "info.columns"
   ]
  },
  {
   "cell_type": "code",
   "execution_count": null,
   "metadata": {},
   "outputs": [],
   "source": [
    "#Lets get this info but split between the away and home team"
   ]
  },
  {
   "cell_type": "code",
   "execution_count": null,
   "metadata": {},
   "outputs": [],
   "source": [
    "info_away = info[['season', 'week', 'away_team', 'away_rest', 'overtime',\n",
    "     'div_game', 'roof', 'surface']]"
   ]
  },
  {
   "cell_type": "code",
   "execution_count": null,
   "metadata": {},
   "outputs": [],
   "source": [
    "info_away = info_away.rename(columns={'away_team':'team',\n",
    "                                     'away_rest':'rest'})"
   ]
  },
  {
   "cell_type": "code",
   "execution_count": null,
   "metadata": {
    "scrolled": false
   },
   "outputs": [],
   "source": [
    "info_away.head()"
   ]
  },
  {
   "cell_type": "code",
   "execution_count": null,
   "metadata": {},
   "outputs": [],
   "source": [
    "info_home = info[['season', 'week', 'home_team', 'home_rest', 'overtime',\n",
    "     'div_game', 'roof', 'surface']]"
   ]
  },
  {
   "cell_type": "code",
   "execution_count": null,
   "metadata": {},
   "outputs": [],
   "source": [
    "info_home = info_home.rename(columns={'home_team':'team',\n",
    "                                     'home_rest':'rest'})"
   ]
  },
  {
   "cell_type": "code",
   "execution_count": null,
   "metadata": {
    "scrolled": true
   },
   "outputs": [],
   "source": [
    "info_home.head()"
   ]
  },
  {
   "cell_type": "code",
   "execution_count": null,
   "metadata": {},
   "outputs": [],
   "source": [
    "#Since roof and surface are categorical, lets create dummy variables"
   ]
  },
  {
   "cell_type": "code",
   "execution_count": null,
   "metadata": {},
   "outputs": [],
   "source": [
    "info_away_surface = pd.get_dummies(info_away['surface'])"
   ]
  },
  {
   "cell_type": "code",
   "execution_count": null,
   "metadata": {},
   "outputs": [],
   "source": [
    "info_away_roof = pd.get_dummies(info_away['roof'])"
   ]
  },
  {
   "cell_type": "code",
   "execution_count": null,
   "metadata": {},
   "outputs": [],
   "source": [
    "info_away = pd.concat([info_away, info_away_surface, info_away_roof], axis=1)"
   ]
  },
  {
   "cell_type": "code",
   "execution_count": null,
   "metadata": {},
   "outputs": [],
   "source": [
    "info_home_surface = pd.get_dummies(info_home['surface'])"
   ]
  },
  {
   "cell_type": "code",
   "execution_count": null,
   "metadata": {},
   "outputs": [],
   "source": [
    "info_home_roof = pd.get_dummies(info_home['roof'])"
   ]
  },
  {
   "cell_type": "code",
   "execution_count": null,
   "metadata": {
    "scrolled": false
   },
   "outputs": [],
   "source": [
    "info_home_roof.head()"
   ]
  },
  {
   "cell_type": "code",
   "execution_count": null,
   "metadata": {},
   "outputs": [],
   "source": [
    "info_home = pd.concat([info_home, info_home_surface, info_home_roof], axis=1)"
   ]
  },
  {
   "cell_type": "code",
   "execution_count": null,
   "metadata": {
    "scrolled": true
   },
   "outputs": [],
   "source": [
    "info_home.head()"
   ]
  },
  {
   "cell_type": "code",
   "execution_count": null,
   "metadata": {},
   "outputs": [],
   "source": [
    "#Lets combine the away and home info"
   ]
  },
  {
   "cell_type": "code",
   "execution_count": null,
   "metadata": {},
   "outputs": [],
   "source": [
    "weekly_info = pd.concat([info_home, info_away])"
   ]
  },
  {
   "cell_type": "code",
   "execution_count": null,
   "metadata": {},
   "outputs": [],
   "source": [
    "weekly_info = weekly_info.sort_values(by=['season', 'team', 'week']).reset_index(drop=True)"
   ]
  },
  {
   "cell_type": "code",
   "execution_count": null,
   "metadata": {},
   "outputs": [],
   "source": [
    "#We dont need roof and surface columns since we got the dummy columns"
   ]
  },
  {
   "cell_type": "code",
   "execution_count": null,
   "metadata": {},
   "outputs": [],
   "source": [
    "weekly_info = weekly_info.drop(['roof', 'surface'], axis=1)"
   ]
  },
  {
   "cell_type": "code",
   "execution_count": null,
   "metadata": {
    "scrolled": false
   },
   "outputs": [],
   "source": [
    "weekly_info.head()"
   ]
  },
  {
   "cell_type": "code",
   "execution_count": null,
   "metadata": {},
   "outputs": [],
   "source": [
    "#Let's combine bet and weekly_info to weekly_agg"
   ]
  },
  {
   "cell_type": "code",
   "execution_count": null,
   "metadata": {},
   "outputs": [],
   "source": [
    "bet.columns"
   ]
  },
  {
   "cell_type": "code",
   "execution_count": null,
   "metadata": {},
   "outputs": [],
   "source": [
    "len(bet)"
   ]
  },
  {
   "cell_type": "code",
   "execution_count": null,
   "metadata": {},
   "outputs": [],
   "source": [
    "len(bet) == len(weekly_agg)"
   ]
  },
  {
   "cell_type": "code",
   "execution_count": null,
   "metadata": {},
   "outputs": [],
   "source": [
    "weekly_agg = weekly_agg.merge(bet, on=['season', 'week', 'team'])"
   ]
  },
  {
   "cell_type": "code",
   "execution_count": null,
   "metadata": {},
   "outputs": [],
   "source": [
    "weekly_agg.head()"
   ]
  },
  {
   "cell_type": "code",
   "execution_count": null,
   "metadata": {},
   "outputs": [],
   "source": [
    "#Lets join weekly info"
   ]
  },
  {
   "cell_type": "code",
   "execution_count": null,
   "metadata": {},
   "outputs": [],
   "source": [
    "len(weekly_info)"
   ]
  },
  {
   "cell_type": "code",
   "execution_count": null,
   "metadata": {},
   "outputs": [],
   "source": [
    "len(weekly_info) == len(weekly_agg)"
   ]
  },
  {
   "cell_type": "code",
   "execution_count": null,
   "metadata": {},
   "outputs": [],
   "source": [
    "weekly_agg = weekly_agg.merge(weekly_info, on=['season', 'week', 'team'])"
   ]
  },
  {
   "cell_type": "code",
   "execution_count": null,
   "metadata": {},
   "outputs": [],
   "source": [
    "#Now let's create some binary variables that we could use as result columns"
   ]
  },
  {
   "cell_type": "code",
   "execution_count": null,
   "metadata": {},
   "outputs": [],
   "source": [
    "#First, lets make a column for whether a team covered the spread"
   ]
  },
  {
   "cell_type": "code",
   "execution_count": null,
   "metadata": {},
   "outputs": [],
   "source": [
    "weekly_agg['is_cover'] = weekly_agg['cover'].apply(lambda x: 1 if x > 0 else 0)"
   ]
  },
  {
   "cell_type": "code",
   "execution_count": null,
   "metadata": {},
   "outputs": [],
   "source": [
    "#Lets check this worked using the GB/Det game from 2019 week 6"
   ]
  },
  {
   "cell_type": "code",
   "execution_count": null,
   "metadata": {},
   "outputs": [],
   "source": [
    "weekly_agg[(weekly_agg['season'] == 2019)\n",
    "    &(weekly_agg['week'] == 6)\n",
    "    &((weekly_agg['team'] == 'DET')\n",
    "      |(weekly_agg['team'] == 'GB'))][['season', 'week', 'team',\n",
    "                             'spread', 'exp_total_points',\n",
    "                             'cover', 'is_cover','points_scored','total_points_scored', 'is_home']]"
   ]
  },
  {
   "cell_type": "code",
   "execution_count": null,
   "metadata": {},
   "outputs": [],
   "source": [
    "#Now let's get a column for whether a team won the game"
   ]
  },
  {
   "cell_type": "code",
   "execution_count": null,
   "metadata": {},
   "outputs": [],
   "source": [
    "weekly_agg['is_winner'] = weekly_agg['scoring_margin'].apply(lambda x: 1 if x > 0 else 0)"
   ]
  },
  {
   "cell_type": "code",
   "execution_count": null,
   "metadata": {},
   "outputs": [],
   "source": [
    "#Now let's get a column for whether over under was hit"
   ]
  },
  {
   "cell_type": "code",
   "execution_count": null,
   "metadata": {},
   "outputs": [],
   "source": [
    "weekly_agg['is_over'] = (weekly_agg['total_points_scored'] > weekly_agg['exp_total_points']).astype('int')"
   ]
  },
  {
   "cell_type": "code",
   "execution_count": null,
   "metadata": {},
   "outputs": [],
   "source": [
    "#Now lets get whether they're favored"
   ]
  },
  {
   "cell_type": "code",
   "execution_count": null,
   "metadata": {},
   "outputs": [],
   "source": [
    "weekly_agg['is_fav'] = np.where(weekly_agg['spread'] < 0, 1, 0)"
   ]
  },
  {
   "cell_type": "code",
   "execution_count": null,
   "metadata": {},
   "outputs": [],
   "source": [
    "#Now let's get their \"record\" both ATS and Straight Up, as well as record for over/under and being favored"
   ]
  },
  {
   "cell_type": "code",
   "execution_count": null,
   "metadata": {},
   "outputs": [],
   "source": [
    "#We can do this by getting an avg of is_cover, is_winner,and is_over, and is_fav"
   ]
  },
  {
   "cell_type": "code",
   "execution_count": null,
   "metadata": {},
   "outputs": [],
   "source": [
    "for col in ['is_cover', 'is_winner', 'is_over', 'is_fav']:\n",
    "    expand_col_name = f'{col}_record'\n",
    "    cumulative_sum = weekly_agg.sort_values(by='week').groupby(['season', 'team'])[col].cumsum()\n",
    "    cumulative_count = weekly_agg.sort_values(by='week').groupby(['season', 'team'])[col].cumcount() + 1\n",
    "    weekly_agg[expand_col_name] = cumulative_sum / cumulative_count"
   ]
  },
  {
   "cell_type": "code",
   "execution_count": null,
   "metadata": {},
   "outputs": [],
   "source": [
    "#Lets check that this worked"
   ]
  },
  {
   "cell_type": "code",
   "execution_count": null,
   "metadata": {
    "scrolled": true
   },
   "outputs": [],
   "source": [
    "weekly_agg[weekly_agg['team'] == 'GB'][['season', 'team', 'week', \n",
    "                                        'is_cover', 'is_cover_record',\n",
    "                                        'is_winner', 'is_winner_record',\n",
    "                                       'is_over', 'is_over_record',\n",
    "                                       'is_fav', 'is_fav_record']].head(16)"
   ]
  },
  {
   "cell_type": "code",
   "execution_count": null,
   "metadata": {},
   "outputs": [],
   "source": [
    "#Why not get a rank of these columns as well?"
   ]
  },
  {
   "cell_type": "code",
   "execution_count": null,
   "metadata": {},
   "outputs": [],
   "source": [
    "for col in ['is_cover_record', 'is_winner_record', 'is_over_record', 'is_fav_record']:\n",
    "    rank_col_name = f'rank_{col}'\n",
    "    weekly_agg[rank_col_name] = weekly_agg.groupby(['season', 'week'])[col].rank(ascending=False)"
   ]
  },
  {
   "cell_type": "code",
   "execution_count": null,
   "metadata": {},
   "outputs": [],
   "source": [
    "#Checking this worked"
   ]
  },
  {
   "cell_type": "code",
   "execution_count": null,
   "metadata": {
    "scrolled": true
   },
   "outputs": [],
   "source": [
    "weekly_agg[weekly_agg['team'] == 'GB'][['season', 'team', 'week', \n",
    "                                        'is_cover', 'is_cover_record', 'rank_is_cover_record',\n",
    "                                        'is_winner', 'is_winner_record', 'rank_is_winner_record',\n",
    "                                       'is_over', 'is_over_record', 'rank_is_over_record',\n",
    "                                       'is_fav', 'is_fav_record', 'rank_is_fav_record'\n",
    "                                       ]].head(16)"
   ]
  },
  {
   "cell_type": "code",
   "execution_count": null,
   "metadata": {},
   "outputs": [],
   "source": [
    "#Great, now let's shift the record columns"
   ]
  },
  {
   "cell_type": "code",
   "execution_count": null,
   "metadata": {},
   "outputs": [],
   "source": [
    "for i in ['is_cover_record', 'rank_is_cover_record','is_winner_record', \n",
    "          'rank_is_winner_record','is_over_record', 'rank_is_over_record',\n",
    "         'is_fav_record', 'rank_is_fav_record']:\n",
    "    weekly_agg[i+'_shifted'] = weekly_agg.groupby(['season', 'team'])[i].shift(periods=1)"
   ]
  },
  {
   "cell_type": "code",
   "execution_count": null,
   "metadata": {},
   "outputs": [],
   "source": [
    "#Checking this"
   ]
  },
  {
   "cell_type": "code",
   "execution_count": null,
   "metadata": {},
   "outputs": [],
   "source": [
    "weekly_agg[weekly_agg['team'] == 'GB'][['season', 'week',\n",
    "            'is_cover_record_shifted', 'rank_is_cover_record_shifted','is_winner_record_shifted', \n",
    "          'rank_is_winner_record_shifted','is_over_record_shifted', 'rank_is_over_record_shifted',\n",
    "                                       'is_fav_record_shifted', 'rank_is_fav_record_shifted']].head(20)"
   ]
  },
  {
   "cell_type": "code",
   "execution_count": null,
   "metadata": {},
   "outputs": [],
   "source": [
    "#Cool, let's just keep the shifted columns"
   ]
  },
  {
   "cell_type": "code",
   "execution_count": null,
   "metadata": {},
   "outputs": [],
   "source": [
    "weekly_agg = weekly_agg.drop(['is_cover_record', 'rank_is_cover_record','is_winner_record', \n",
    "          'rank_is_winner_record','is_over_record', 'rank_is_over_record',\n",
    "                             'is_fav_record', 'rank_is_fav_record'], axis=1)"
   ]
  },
  {
   "cell_type": "code",
   "execution_count": null,
   "metadata": {},
   "outputs": [],
   "source": [
    "#I realize that rushing carries were in weekly_data as well as in pfr_rush"
   ]
  },
  {
   "cell_type": "code",
   "execution_count": null,
   "metadata": {},
   "outputs": [],
   "source": [
    "#Lets identify them"
   ]
  },
  {
   "cell_type": "code",
   "execution_count": null,
   "metadata": {
    "scrolled": true
   },
   "outputs": [],
   "source": [
    "[i for i in weekly_agg.columns if i.endswith(('_x', '_y'))]"
   ]
  },
  {
   "cell_type": "code",
   "execution_count": null,
   "metadata": {},
   "outputs": [],
   "source": [
    "#Lets eliminate the y columns"
   ]
  },
  {
   "cell_type": "code",
   "execution_count": null,
   "metadata": {},
   "outputs": [],
   "source": [
    "weekly_agg = weekly_agg.drop([i for i in weekly_agg.columns if i.endswith(('_y'))], axis=1)"
   ]
  },
  {
   "cell_type": "code",
   "execution_count": null,
   "metadata": {},
   "outputs": [],
   "source": [
    "#Lets remove _x from the remaining columns"
   ]
  },
  {
   "cell_type": "code",
   "execution_count": null,
   "metadata": {},
   "outputs": [],
   "source": [
    "weekly_agg.columns = [i for i in weekly_agg.columns.str.replace('_x', '')]"
   ]
  },
  {
   "cell_type": "code",
   "execution_count": null,
   "metadata": {},
   "outputs": [],
   "source": [
    "[i for i in weekly_agg.columns if i.endswith(('_y'))]"
   ]
  },
  {
   "cell_type": "code",
   "execution_count": null,
   "metadata": {},
   "outputs": [],
   "source": [
    "[i for i in weekly_agg.columns if i.endswith(('_x'))]"
   ]
  },
  {
   "cell_type": "code",
   "execution_count": null,
   "metadata": {},
   "outputs": [],
   "source": [
    "#Confirming the columns that don't have shifted in the column name"
   ]
  },
  {
   "cell_type": "code",
   "execution_count": null,
   "metadata": {
    "scrolled": true
   },
   "outputs": [],
   "source": [
    "[i for i in weekly_agg.columns if not i.endswith('_shifted')]"
   ]
  },
  {
   "cell_type": "code",
   "execution_count": null,
   "metadata": {},
   "outputs": [],
   "source": [
    "#We have our dataset!"
   ]
  },
  {
   "cell_type": "code",
   "execution_count": null,
   "metadata": {},
   "outputs": [],
   "source": [
    "weekly_agg.head()"
   ]
  },
  {
   "cell_type": "code",
   "execution_count": null,
   "metadata": {},
   "outputs": [],
   "source": [
    "#Lets save our data to a csv"
   ]
  },
  {
   "cell_type": "code",
   "execution_count": null,
   "metadata": {},
   "outputs": [],
   "source": [
    "weekly_agg.to_csv('/Users/SwagMawi/Documents/nfl_training_data_2023.csv')"
   ]
  },
  {
   "cell_type": "code",
   "execution_count": null,
   "metadata": {},
   "outputs": [],
   "source": []
  }
 ],
 "metadata": {
  "kernelspec": {
   "display_name": "Python 3",
   "language": "python",
   "name": "python3"
  },
  "language_info": {
   "codemirror_mode": {
    "name": "ipython",
    "version": 3
   },
   "file_extension": ".py",
   "mimetype": "text/x-python",
   "name": "python",
   "nbconvert_exporter": "python",
   "pygments_lexer": "ipython3",
   "version": "3.8.3"
  }
 },
 "nbformat": 4,
 "nbformat_minor": 4
}
